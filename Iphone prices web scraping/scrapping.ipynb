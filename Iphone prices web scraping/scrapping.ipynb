{
 "cells": [
  {
   "cell_type": "markdown",
   "metadata": {},
   "source": [
    "# import packages"
   ]
  },
  {
   "cell_type": "code",
   "execution_count": 38,
   "metadata": {},
   "outputs": [],
   "source": [
    "from bs4 import BeautifulSoup\n",
    "import requests\n",
    "import numpy as np\n",
    "import pandas as pd\n",
    "from datetime import datetime"
   ]
  },
  {
   "cell_type": "markdown",
   "metadata": {},
   "source": [
    "# start url & scraping date"
   ]
  },
  {
   "cell_type": "code",
   "execution_count": 39,
   "metadata": {},
   "outputs": [],
   "source": [
    "price_url = 'https://asgoodasnew.de/Handys/Apple/iPhone-14/'\n",
    "specs_url = 'https://phonesdata.com/de/smartphones/apple/'\n",
    "scrap_date = datetime.now().strftime('%Y-%m-%d')"
   ]
  },
  {
   "cell_type": "markdown",
   "metadata": {},
   "source": [
    "# function definition"
   ]
  },
  {
   "cell_type": "markdown",
   "metadata": {},
   "source": [
    "## general functions"
   ]
  },
  {
   "cell_type": "code",
   "execution_count": 40,
   "metadata": {},
   "outputs": [],
   "source": [
    "def scrap_url(url):\n",
    "\n",
    "    html_text = requests.get(url).text\n",
    "    soup = BeautifulSoup(html_text, 'html.parser')\n",
    "\n",
    "    return soup"
   ]
  },
  {
   "cell_type": "code",
   "execution_count": 41,
   "metadata": {},
   "outputs": [],
   "source": [
    "def merge_dfs(df_price, df_specs):\n",
    "    df = df_price.merge(df_specs, how='left')\n",
    "    return df"
   ]
  },
  {
   "cell_type": "code",
   "execution_count": 42,
   "metadata": {},
   "outputs": [],
   "source": [
    "def export_data():\n",
    "    export = input(f'Do you want do download the data to Excel? Press y or n or ESC: ')\n",
    "\n",
    "    while export.lower() not in ['y', 'n', '']:\n",
    "        export = input(f'Please enter a valid value? Press y or n or ESC: ')\n",
    "\n",
    "    full_data = merge_dfs(df_price, df_specs)\n",
    "\n",
    "    if export.lower() == 'y':\n",
    "            \n",
    "            file = 'iphone asgoodasnew price scraping.xlsx'\n",
    "\n",
    "            try:\n",
    "                df = pd.read_excel(file)\n",
    "                last_date = df['date'].max().strftime('%Y-%m-%d')\n",
    "                new_date = full_data['date'].max().strftime('%Y-%m-%d')\n",
    "\n",
    "                if new_date != last_date:\n",
    "                    df = pd.concat([df, full_data])\n",
    "                    df.to_excel(file, index=False)\n",
    "\n",
    "                    print('New records added to existing Excel file.')\n",
    "                \n",
    "                else:\n",
    "                    print('Records already existing in the file.')\n",
    "\n",
    "            except:\n",
    "                full_data.to_excel(file, index=False)\n",
    "                print('New records extracted and Excel file created.')\n",
    "            \n",
    "    else:\n",
    "        print('No records extracted.')"
   ]
  },
  {
   "cell_type": "markdown",
   "metadata": {},
   "source": [
    "## price scraping functions"
   ]
  },
  {
   "cell_type": "code",
   "execution_count": 43,
   "metadata": {},
   "outputs": [],
   "source": [
    "def create_urls(soup):\n",
    "\n",
    "    raw_urls = soup.find('div', class_=\"listlocator-paging\").find_all('a')[:-1]\n",
    "\n",
    "    cleaned_urls = []\n",
    "\n",
    "    for url in raw_urls:\n",
    "        cleaned_urls.append(url['href'])\n",
    "\n",
    "    return cleaned_urls"
   ]
  },
  {
   "cell_type": "code",
   "execution_count": 44,
   "metadata": {},
   "outputs": [],
   "source": [
    "def create_model_list(url):\n",
    "\n",
    "    model_list = []\n",
    "\n",
    "    soup = scrap_url(url)\n",
    "\n",
    "    urls = create_urls(soup)\n",
    "\n",
    "    for url in urls:\n",
    "\n",
    "        soup = scrap_url(url)\n",
    "\n",
    "        models = soup.find_all('div', class_=\"col-xs-6 col-sm-4\")\n",
    "\n",
    "        for model in models:\n",
    "            if model.a != None:\n",
    "\n",
    "                model_dict = {}\n",
    "\n",
    "                model_name = model.a['title']\n",
    "                model_url = model.a['href']\n",
    "\n",
    "                model_dict['name'] = model_name\n",
    "                model_dict['url'] = model_url\n",
    "\n",
    "                model_list.append(model_dict)\n",
    "\n",
    "    return model_list"
   ]
  },
  {
   "cell_type": "code",
   "execution_count": 45,
   "metadata": {},
   "outputs": [],
   "source": [
    "def read_model_conditions(soup):\n",
    "    conditions = soup.find_all('div', class_='btn-radio')\n",
    "\n",
    "    #conditions_mod = []\n",
    "    #status = []\n",
    "\n",
    "    conditions_list = []\n",
    "\n",
    "    for condition in conditions:\n",
    "\n",
    "        condition_dict = {}\n",
    "\n",
    "        condition = condition.label.text.strip().split('\\n')\n",
    "\n",
    "        if len(condition) == 2:\n",
    "            #conditions_mod.append(condition[0])\n",
    "            #status.append(condition[1].strip())\n",
    "\n",
    "            condition_dict['condition'] = condition[0]\n",
    "            condition_dict['status'] = condition[1].strip()\n",
    "        else:\n",
    "            #conditions_mod.append(condition[0])\n",
    "            #status.append('verfügbar')\n",
    "\n",
    "            condition_dict['condition'] = condition[0]\n",
    "            condition_dict['status'] = 'verfügbar'\n",
    "\n",
    "        conditions_list.append(condition_dict)\n",
    "        \n",
    "    #return conditions_mod, status\n",
    "    return conditions_list"
   ]
  },
  {
   "cell_type": "code",
   "execution_count": 56,
   "metadata": {},
   "outputs": [],
   "source": [
    "def read_model_prices(soup):\n",
    "    prices = soup.find_all('div', class_='conditions-price')\n",
    "\n",
    "    #old_prices = []\n",
    "    #new_prices = []\n",
    "\n",
    "    prices_list = []\n",
    "\n",
    "    for price in prices:\n",
    "\n",
    "        prices_dict = {}\n",
    "\n",
    "        old_price = int(price.text.strip()[:4].replace(',', ''))\n",
    "        new_price = price.find('div', class_='conditions--newprice').text.strip()[:-3]\n",
    "\n",
    "        if new_price == '':\n",
    "            new_price = 0\n",
    "        else: new_price = int(new_price)\n",
    "\n",
    "        #old_prices.append(old_price)\n",
    "        #new_prices.append(new_price)\n",
    "\n",
    "        prices_dict['price'] = old_price\n",
    "        prices_dict['cur_price'] = new_price\n",
    "\n",
    "        prices_list.append(prices_dict)\n",
    "    \n",
    "    #return old_prices, new_prices\n",
    "    return prices_list"
   ]
  },
  {
   "cell_type": "code",
   "execution_count": 47,
   "metadata": {},
   "outputs": [],
   "source": [
    "def create_model_attr(model):\n",
    "\n",
    "    model = model.split()\n",
    "\n",
    "    for number, item in enumerate(model):\n",
    "\n",
    "        brand = model[0]\n",
    "        product = model[1]\n",
    "        series = int(model[2])\n",
    "\n",
    "        if item.endswith(('GB', 'TB')):\n",
    "            size_index = number\n",
    "            size_str = model[size_index]\n",
    "\n",
    "            if size_str[-2:] == 'TB':\n",
    "                size_gb = int(size_str[:-2]) * 1000 + int(size_str[:-2]) * 24\n",
    "            else:\n",
    "                size_gb = int(size_str[:-2])\n",
    "\n",
    "            spec = ' '.join(model[3:size_index])\n",
    "            color = ' '.join(model[size_index + 1:])\n",
    "\n",
    "    return brand, product, series, spec, size_gb, color"
   ]
  },
  {
   "cell_type": "code",
   "execution_count": 79,
   "metadata": {},
   "outputs": [],
   "source": [
    "def create_scraped_data(model_list):\n",
    "\n",
    "    full_data = pd.DataFrame()\n",
    "\n",
    "    for model in model_list:\n",
    "\n",
    "        # read model attributes\n",
    "        brand, product, series, spec, size_gb, color = create_model_attr(model['name'])\n",
    "\n",
    "        # scrape model prices\n",
    "        model_url = model['url']\n",
    "        soup = scrap_url(model_url)\n",
    "\n",
    "        #con, stat = read_model_conditions(soup)\n",
    "        #old, new = read_model_prices(soup)\n",
    "\n",
    "        conditions = read_model_conditions(soup)\n",
    "        prices = read_model_prices(soup)\n",
    "\n",
    "        # create DataFrame\n",
    "        #data = pd.DataFrame(list(zip(con,stat, old, new)), columns =['condition', 'status', 'price', 'cur_price'])\n",
    "        data = pd.concat([pd.DataFrame(conditions), pd.DataFrame(prices)], axis=1)\n",
    "        \n",
    "        data['full_model_name'] = model['name']\n",
    "        data['model_name'] = f'{product} {series} {spec}'.strip()\n",
    "        data['brand'] = brand\n",
    "        data['product'] = product\n",
    "        data['series'] = series\n",
    "        data['specification'] = spec\n",
    "        data['size_gb'] = size_gb\n",
    "        data['color'] = color   \n",
    "\n",
    "        full_data = pd.concat([full_data, data])\n",
    "\n",
    "    full_data = df_mod(full_data)\n",
    "\n",
    "    return full_data\n"
   ]
  },
  {
   "cell_type": "code",
   "execution_count": 49,
   "metadata": {},
   "outputs": [],
   "source": [
    "def df_mod(df):\n",
    "\n",
    "    df['date'] = scrap_date\n",
    "    df['date'] = pd.to_datetime(df['date'])\n",
    "\n",
    "    df['discount'] = df.apply(lambda x: x['cur_price'] - x['price'] \n",
    "                                            if x['cur_price'] > 0 else 0, axis=1)\n",
    "\n",
    "    df = df[['date',\n",
    "            'full_model_name',\n",
    "            'model_name',\n",
    "            'brand',\n",
    "            'product',\n",
    "            'series',\n",
    "            'specification',\n",
    "            'size_gb',\n",
    "            'color',\n",
    "            'condition',\n",
    "            'status',\n",
    "            'price',\n",
    "            'cur_price', \n",
    "            'discount',\n",
    "            ]]\n",
    "    df = df.reset_index(drop=True)\n",
    "\n",
    "    return df"
   ]
  },
  {
   "cell_type": "markdown",
   "metadata": {},
   "source": [
    "## specs functions"
   ]
  },
  {
   "cell_type": "code",
   "execution_count": 50,
   "metadata": {},
   "outputs": [],
   "source": [
    "def create_model_list_specs(url):\n",
    "\n",
    "    soup = scrap_url(url)\n",
    "\n",
    "    models = soup.find_all('div', class_='col-md-2 col-sm-3 col-xs-3')\n",
    "\n",
    "    model_list = []\n",
    "\n",
    "    for model in models:\n",
    "\n",
    "        model_dict = {}\n",
    "\n",
    "        model_name = model.span.text\n",
    "        model_url = model.a['href']\n",
    "\n",
    "        model_dict['name'] = model_name\n",
    "        model_dict['url'] = model_url\n",
    "\n",
    "        model_list.append(model_dict)\n",
    "\n",
    "    return model_list"
   ]
  },
  {
   "cell_type": "code",
   "execution_count": 97,
   "metadata": {},
   "outputs": [],
   "source": [
    "def read_model_details(model_list):\n",
    "\n",
    "    feature_list = []\n",
    "\n",
    "    for model in model_list:\n",
    "        model_url = model['url']\n",
    "\n",
    "        soup = scrap_url(model_url)\n",
    "\n",
    "        feature_names = soup.find('table', id=\"commontec\").find_all('td', class_=\"datasheet-features-type\")\n",
    "        feature_values = soup.find('table', id=\"commontec\").find_all('p')\n",
    "\n",
    "        feature_dict = {}\n",
    "\n",
    "        for n, v in zip(feature_names, feature_values):\n",
    "\n",
    "            n = n.text\n",
    "            v = v.text\n",
    "\n",
    "            rel_feature_names = ['Abmessung', 'Gewicht']\n",
    "\n",
    "            if any(f in n for f in rel_feature_names):\n",
    "\n",
    "                feature_dict['model_name'] = model['name']\n",
    "                feature_dict[n] = v\n",
    "        feature_dict['model_url'] = model_url\n",
    "\n",
    "        feature_list.append(feature_dict)\n",
    "\n",
    "    return pd.DataFrame(feature_list)"
   ]
  },
  {
   "cell_type": "markdown",
   "metadata": {},
   "source": [
    "# run script"
   ]
  },
  {
   "cell_type": "code",
   "execution_count": 98,
   "metadata": {},
   "outputs": [],
   "source": [
    "model_list = create_model_list(price_url)"
   ]
  },
  {
   "cell_type": "code",
   "execution_count": 99,
   "metadata": {},
   "outputs": [
    {
     "name": "stdout",
     "output_type": "stream",
     "text": [
      "https://asgoodasnew.de/Handys/Apple/iPhone-14/Apple-iPhone-14-Pro-512GB-dunkellila-oxid.html\n",
      "https://asgoodasnew.de/Handys/Apple/iPhone-14/Apple-iPhone-14-Pro-1TB-gold.html\n",
      "https://asgoodasnew.de/Handys/Apple/iPhone-14/Apple-iPhone-14-256GB-blau.html\n",
      "https://asgoodasnew.de/Handys/Apple/iPhone-14/Apple-iPhone-14-256GB-rot.html\n",
      "https://asgoodasnew.de/Handys/Apple/iPhone-14/Apple-iPhone-14-Pro-Max-256GB-dunkellila.html\n"
     ]
    }
   ],
   "source": [
    "for model in model_list[:5]:\n",
    "    print(model['url'])"
   ]
  },
  {
   "cell_type": "code",
   "execution_count": 100,
   "metadata": {},
   "outputs": [],
   "source": [
    "df_price = create_scraped_data(model_list)"
   ]
  },
  {
   "cell_type": "code",
   "execution_count": 101,
   "metadata": {},
   "outputs": [
    {
     "data": {
      "text/html": [
       "<div>\n",
       "<style scoped>\n",
       "    .dataframe tbody tr th:only-of-type {\n",
       "        vertical-align: middle;\n",
       "    }\n",
       "\n",
       "    .dataframe tbody tr th {\n",
       "        vertical-align: top;\n",
       "    }\n",
       "\n",
       "    .dataframe thead th {\n",
       "        text-align: right;\n",
       "    }\n",
       "</style>\n",
       "<table border=\"1\" class=\"dataframe\">\n",
       "  <thead>\n",
       "    <tr style=\"text-align: right;\">\n",
       "      <th></th>\n",
       "      <th>date</th>\n",
       "      <th>full_model_name</th>\n",
       "      <th>model_name</th>\n",
       "      <th>brand</th>\n",
       "      <th>product</th>\n",
       "      <th>series</th>\n",
       "      <th>specification</th>\n",
       "      <th>size_gb</th>\n",
       "      <th>color</th>\n",
       "      <th>condition</th>\n",
       "      <th>status</th>\n",
       "      <th>price</th>\n",
       "      <th>cur_price</th>\n",
       "      <th>discount</th>\n",
       "    </tr>\n",
       "  </thead>\n",
       "  <tbody>\n",
       "    <tr>\n",
       "      <th>0</th>\n",
       "      <td>2023-08-31</td>\n",
       "      <td>Apple iPhone 14 Pro 512GB dunkellila</td>\n",
       "      <td>iPhone 14 Pro</td>\n",
       "      <td>Apple</td>\n",
       "      <td>iPhone</td>\n",
       "      <td>14</td>\n",
       "      <td>Pro</td>\n",
       "      <td>512</td>\n",
       "      <td>dunkellila</td>\n",
       "      <td>neu</td>\n",
       "      <td>verfügbar</td>\n",
       "      <td>1439</td>\n",
       "      <td>0</td>\n",
       "      <td>0</td>\n",
       "    </tr>\n",
       "    <tr>\n",
       "      <th>1</th>\n",
       "      <td>2023-08-31</td>\n",
       "      <td>Apple iPhone 14 Pro 512GB dunkellila</td>\n",
       "      <td>iPhone 14 Pro</td>\n",
       "      <td>Apple</td>\n",
       "      <td>iPhone</td>\n",
       "      <td>14</td>\n",
       "      <td>Pro</td>\n",
       "      <td>512</td>\n",
       "      <td>dunkellila</td>\n",
       "      <td>wie neu</td>\n",
       "      <td>verfügbar</td>\n",
       "      <td>1319</td>\n",
       "      <td>0</td>\n",
       "      <td>0</td>\n",
       "    </tr>\n",
       "    <tr>\n",
       "      <th>2</th>\n",
       "      <td>2023-08-31</td>\n",
       "      <td>Apple iPhone 14 Pro 512GB dunkellila</td>\n",
       "      <td>iPhone 14 Pro</td>\n",
       "      <td>Apple</td>\n",
       "      <td>iPhone</td>\n",
       "      <td>14</td>\n",
       "      <td>Pro</td>\n",
       "      <td>512</td>\n",
       "      <td>dunkellila</td>\n",
       "      <td>sehr gut</td>\n",
       "      <td>verfügbar</td>\n",
       "      <td>1279</td>\n",
       "      <td>1239</td>\n",
       "      <td>-40</td>\n",
       "    </tr>\n",
       "    <tr>\n",
       "      <th>3</th>\n",
       "      <td>2023-08-31</td>\n",
       "      <td>Apple iPhone 14 Pro 512GB dunkellila</td>\n",
       "      <td>iPhone 14 Pro</td>\n",
       "      <td>Apple</td>\n",
       "      <td>iPhone</td>\n",
       "      <td>14</td>\n",
       "      <td>Pro</td>\n",
       "      <td>512</td>\n",
       "      <td>dunkellila</td>\n",
       "      <td>gut</td>\n",
       "      <td>ausverkauft</td>\n",
       "      <td>1249</td>\n",
       "      <td>0</td>\n",
       "      <td>0</td>\n",
       "    </tr>\n",
       "    <tr>\n",
       "      <th>4</th>\n",
       "      <td>2023-08-31</td>\n",
       "      <td>Apple iPhone 14 Pro 1TB gold</td>\n",
       "      <td>iPhone 14 Pro</td>\n",
       "      <td>Apple</td>\n",
       "      <td>iPhone</td>\n",
       "      <td>14</td>\n",
       "      <td>Pro</td>\n",
       "      <td>1024</td>\n",
       "      <td>gold</td>\n",
       "      <td>neu</td>\n",
       "      <td>verfügbar</td>\n",
       "      <td>1529</td>\n",
       "      <td>0</td>\n",
       "      <td>0</td>\n",
       "    </tr>\n",
       "  </tbody>\n",
       "</table>\n",
       "</div>"
      ],
      "text/plain": [
       "        date                       full_model_name     model_name  brand  \\\n",
       "0 2023-08-31  Apple iPhone 14 Pro 512GB dunkellila  iPhone 14 Pro  Apple   \n",
       "1 2023-08-31  Apple iPhone 14 Pro 512GB dunkellila  iPhone 14 Pro  Apple   \n",
       "2 2023-08-31  Apple iPhone 14 Pro 512GB dunkellila  iPhone 14 Pro  Apple   \n",
       "3 2023-08-31  Apple iPhone 14 Pro 512GB dunkellila  iPhone 14 Pro  Apple   \n",
       "4 2023-08-31          Apple iPhone 14 Pro 1TB gold  iPhone 14 Pro  Apple   \n",
       "\n",
       "  product  series specification  size_gb       color condition       status  \\\n",
       "0  iPhone      14           Pro      512  dunkellila       neu    verfügbar   \n",
       "1  iPhone      14           Pro      512  dunkellila   wie neu    verfügbar   \n",
       "2  iPhone      14           Pro      512  dunkellila  sehr gut    verfügbar   \n",
       "3  iPhone      14           Pro      512  dunkellila       gut  ausverkauft   \n",
       "4  iPhone      14           Pro     1024        gold       neu    verfügbar   \n",
       "\n",
       "   price  cur_price  discount  \n",
       "0   1439          0         0  \n",
       "1   1319          0         0  \n",
       "2   1279       1239       -40  \n",
       "3   1249          0         0  \n",
       "4   1529          0         0  "
      ]
     },
     "execution_count": 101,
     "metadata": {},
     "output_type": "execute_result"
    }
   ],
   "source": [
    "df_price.head()"
   ]
  },
  {
   "cell_type": "code",
   "execution_count": 102,
   "metadata": {},
   "outputs": [
    {
     "data": {
      "text/plain": [
       "60"
      ]
     },
     "execution_count": 102,
     "metadata": {},
     "output_type": "execute_result"
    }
   ],
   "source": [
    "df_price['full_model_name'].nunique()"
   ]
  },
  {
   "cell_type": "code",
   "execution_count": 103,
   "metadata": {},
   "outputs": [
    {
     "data": {
      "text/plain": [
       "240"
      ]
     },
     "execution_count": 103,
     "metadata": {},
     "output_type": "execute_result"
    }
   ],
   "source": [
    "len(df_price)"
   ]
  },
  {
   "cell_type": "code",
   "execution_count": 104,
   "metadata": {},
   "outputs": [
    {
     "data": {
      "text/html": [
       "<div>\n",
       "<style scoped>\n",
       "    .dataframe tbody tr th:only-of-type {\n",
       "        vertical-align: middle;\n",
       "    }\n",
       "\n",
       "    .dataframe tbody tr th {\n",
       "        vertical-align: top;\n",
       "    }\n",
       "\n",
       "    .dataframe thead th {\n",
       "        text-align: right;\n",
       "    }\n",
       "</style>\n",
       "<table border=\"1\" class=\"dataframe\">\n",
       "  <thead>\n",
       "    <tr style=\"text-align: right;\">\n",
       "      <th></th>\n",
       "      <th>model_name</th>\n",
       "      <th>Abmessungen (HxBxT)</th>\n",
       "      <th>Gewicht</th>\n",
       "      <th>model_url</th>\n",
       "    </tr>\n",
       "  </thead>\n",
       "  <tbody>\n",
       "    <tr>\n",
       "      <th>0</th>\n",
       "      <td>iPhone 14</td>\n",
       "      <td>146.7  Х  71.5  Х  7.8 mm</td>\n",
       "      <td>172 g</td>\n",
       "      <td>https://phonesdata.com/de/smartphones/apple/ip...</td>\n",
       "    </tr>\n",
       "    <tr>\n",
       "      <th>1</th>\n",
       "      <td>iPhone 14 Plus</td>\n",
       "      <td>160.8  Х  78.1  Х  7.8 mm</td>\n",
       "      <td>203 g</td>\n",
       "      <td>https://phonesdata.com/de/smartphones/apple/ip...</td>\n",
       "    </tr>\n",
       "    <tr>\n",
       "      <th>2</th>\n",
       "      <td>iPhone 14 Pro</td>\n",
       "      <td>147.5  Х  71.5  Х  7.9 mm</td>\n",
       "      <td>206 g</td>\n",
       "      <td>https://phonesdata.com/de/smartphones/apple/ip...</td>\n",
       "    </tr>\n",
       "    <tr>\n",
       "      <th>3</th>\n",
       "      <td>iPhone 14 Pro Max</td>\n",
       "      <td>160.7  Х  77.6  Х  7.9 mm</td>\n",
       "      <td>240 g</td>\n",
       "      <td>https://phonesdata.com/de/smartphones/apple/ip...</td>\n",
       "    </tr>\n",
       "    <tr>\n",
       "      <th>4</th>\n",
       "      <td>iPhone SE3 (2022)</td>\n",
       "      <td>138.4  Х  67.3  Х  7.3 mm</td>\n",
       "      <td>144 g</td>\n",
       "      <td>https://phonesdata.com/de/smartphones/apple/ip...</td>\n",
       "    </tr>\n",
       "  </tbody>\n",
       "</table>\n",
       "</div>"
      ],
      "text/plain": [
       "          model_name        Abmessungen (HxBxT) Gewicht  \\\n",
       "0          iPhone 14  146.7  Х  71.5  Х  7.8 mm   172 g   \n",
       "1     iPhone 14 Plus  160.8  Х  78.1  Х  7.8 mm   203 g   \n",
       "2      iPhone 14 Pro  147.5  Х  71.5  Х  7.9 mm   206 g   \n",
       "3  iPhone 14 Pro Max  160.7  Х  77.6  Х  7.9 mm   240 g   \n",
       "4  iPhone SE3 (2022)  138.4  Х  67.3  Х  7.3 mm   144 g   \n",
       "\n",
       "                                           model_url  \n",
       "0  https://phonesdata.com/de/smartphones/apple/ip...  \n",
       "1  https://phonesdata.com/de/smartphones/apple/ip...  \n",
       "2  https://phonesdata.com/de/smartphones/apple/ip...  \n",
       "3  https://phonesdata.com/de/smartphones/apple/ip...  \n",
       "4  https://phonesdata.com/de/smartphones/apple/ip...  "
      ]
     },
     "execution_count": 104,
     "metadata": {},
     "output_type": "execute_result"
    }
   ],
   "source": [
    "df_specs = read_model_details(create_model_list_specs(specs_url))\n",
    "df_specs.head()"
   ]
  },
  {
   "cell_type": "code",
   "execution_count": 105,
   "metadata": {},
   "outputs": [
    {
     "name": "stdout",
     "output_type": "stream",
     "text": [
      "New records extracted and Excel file created.\n"
     ]
    }
   ],
   "source": [
    "export_data()"
   ]
  }
 ],
 "metadata": {
  "kernelspec": {
   "display_name": "base",
   "language": "python",
   "name": "python3"
  },
  "language_info": {
   "codemirror_mode": {
    "name": "ipython",
    "version": 3
   },
   "file_extension": ".py",
   "mimetype": "text/x-python",
   "name": "python",
   "nbconvert_exporter": "python",
   "pygments_lexer": "ipython3",
   "version": "3.7.6"
  },
  "orig_nbformat": 4
 },
 "nbformat": 4,
 "nbformat_minor": 2
}

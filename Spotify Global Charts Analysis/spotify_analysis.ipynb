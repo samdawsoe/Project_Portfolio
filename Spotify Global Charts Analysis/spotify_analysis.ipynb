{
 "cells": [
  {
   "cell_type": "markdown",
   "metadata": {},
   "source": [
    "<center><img src=\"https://cdn-icons-png.flaticon.com/128/3669/3669986.png\" width=\"150\"/></center>\n",
    "\n",
    "# <center>**Spotify Global Charts Analysis**</center>\n",
    "<br>"
   ]
  },
  {
   "cell_type": "markdown",
   "metadata": {},
   "source": [
    "# **Data & Purpose**"
   ]
  },
  {
   "cell_type": "markdown",
   "metadata": {},
   "source": [
    "Given is a dataset with spotify charts from 70 different countries between Jan 1st 2017 and December 31st 2021.\n",
    "\n",
    "Purpose of this notebook is to provide some usefull insights into Spotify streamings. Therefore I will analyze the data regarding overall trends, artist and song details."
   ]
  },
  {
   "cell_type": "markdown",
   "metadata": {},
   "source": [
    "# **Load libraries and dataset**"
   ]
  },
  {
   "cell_type": "code",
   "execution_count": 1,
   "metadata": {},
   "outputs": [],
   "source": [
    "import numpy as np\n",
    "import pandas as pd\n",
    "import matplotlib.pyplot as plt\n",
    "import seaborn as sns\n",
    "\n",
    "sns.set_palette('RdBu_r')"
   ]
  },
  {
   "cell_type": "code",
   "execution_count": 2,
   "metadata": {},
   "outputs": [],
   "source": [
    "# relevant columns\n",
    "\n",
    "rel_cols = ['title', 'rank', 'date', 'artist', 'region', 'chart', 'streams']"
   ]
  },
  {
   "cell_type": "code",
   "execution_count": 3,
   "metadata": {},
   "outputs": [],
   "source": [
    "raw_data = pd.read_csv('charts.csv', parse_dates=['date'], usecols=rel_cols)"
   ]
  },
  {
   "cell_type": "code",
   "execution_count": 4,
   "metadata": {},
   "outputs": [
    {
     "data": {
      "text/html": [
       "<div>\n",
       "<style scoped>\n",
       "    .dataframe tbody tr th:only-of-type {\n",
       "        vertical-align: middle;\n",
       "    }\n",
       "\n",
       "    .dataframe tbody tr th {\n",
       "        vertical-align: top;\n",
       "    }\n",
       "\n",
       "    .dataframe thead th {\n",
       "        text-align: right;\n",
       "    }\n",
       "</style>\n",
       "<table border=\"1\" class=\"dataframe\">\n",
       "  <thead>\n",
       "    <tr style=\"text-align: right;\">\n",
       "      <th></th>\n",
       "      <th>title</th>\n",
       "      <th>rank</th>\n",
       "      <th>date</th>\n",
       "      <th>artist</th>\n",
       "      <th>region</th>\n",
       "      <th>chart</th>\n",
       "      <th>streams</th>\n",
       "    </tr>\n",
       "  </thead>\n",
       "  <tbody>\n",
       "    <tr>\n",
       "      <th>0</th>\n",
       "      <td>Chantaje (feat. Maluma)</td>\n",
       "      <td>1</td>\n",
       "      <td>2017-01-01</td>\n",
       "      <td>Shakira</td>\n",
       "      <td>Argentina</td>\n",
       "      <td>top200</td>\n",
       "      <td>253019.0</td>\n",
       "    </tr>\n",
       "    <tr>\n",
       "      <th>1</th>\n",
       "      <td>Vente Pa' Ca (feat. Maluma)</td>\n",
       "      <td>2</td>\n",
       "      <td>2017-01-01</td>\n",
       "      <td>Ricky Martin</td>\n",
       "      <td>Argentina</td>\n",
       "      <td>top200</td>\n",
       "      <td>223988.0</td>\n",
       "    </tr>\n",
       "    <tr>\n",
       "      <th>2</th>\n",
       "      <td>Reggaetón Lento (Bailemos)</td>\n",
       "      <td>3</td>\n",
       "      <td>2017-01-01</td>\n",
       "      <td>CNCO</td>\n",
       "      <td>Argentina</td>\n",
       "      <td>top200</td>\n",
       "      <td>210943.0</td>\n",
       "    </tr>\n",
       "    <tr>\n",
       "      <th>3</th>\n",
       "      <td>Safari</td>\n",
       "      <td>4</td>\n",
       "      <td>2017-01-01</td>\n",
       "      <td>J Balvin, Pharrell Williams, BIA, Sky</td>\n",
       "      <td>Argentina</td>\n",
       "      <td>top200</td>\n",
       "      <td>173865.0</td>\n",
       "    </tr>\n",
       "    <tr>\n",
       "      <th>4</th>\n",
       "      <td>Shaky Shaky</td>\n",
       "      <td>5</td>\n",
       "      <td>2017-01-01</td>\n",
       "      <td>Daddy Yankee</td>\n",
       "      <td>Argentina</td>\n",
       "      <td>top200</td>\n",
       "      <td>153956.0</td>\n",
       "    </tr>\n",
       "  </tbody>\n",
       "</table>\n",
       "</div>"
      ],
      "text/plain": [
       "                         title  rank       date  \\\n",
       "0      Chantaje (feat. Maluma)     1 2017-01-01   \n",
       "1  Vente Pa' Ca (feat. Maluma)     2 2017-01-01   \n",
       "2   Reggaetón Lento (Bailemos)     3 2017-01-01   \n",
       "3                       Safari     4 2017-01-01   \n",
       "4                  Shaky Shaky     5 2017-01-01   \n",
       "\n",
       "                                  artist     region   chart   streams  \n",
       "0                                Shakira  Argentina  top200  253019.0  \n",
       "1                           Ricky Martin  Argentina  top200  223988.0  \n",
       "2                                   CNCO  Argentina  top200  210943.0  \n",
       "3  J Balvin, Pharrell Williams, BIA, Sky  Argentina  top200  173865.0  \n",
       "4                           Daddy Yankee  Argentina  top200  153956.0  "
      ]
     },
     "execution_count": 4,
     "metadata": {},
     "output_type": "execute_result"
    }
   ],
   "source": [
    "df = raw_data.copy()\n",
    "df.head()"
   ]
  },
  {
   "cell_type": "markdown",
   "metadata": {},
   "source": [
    "# **EDA**       <img src=\"analysis icon.png\" width=\"30\"/>"
   ]
  },
  {
   "cell_type": "code",
   "execution_count": 5,
   "metadata": {},
   "outputs": [
    {
     "data": {
      "text/plain": [
       "(26173514, 7)"
      ]
     },
     "execution_count": 5,
     "metadata": {},
     "output_type": "execute_result"
    }
   ],
   "source": [
    "df.shape"
   ]
  },
  {
   "cell_type": "code",
   "execution_count": 6,
   "metadata": {},
   "outputs": [
    {
     "name": "stdout",
     "output_type": "stream",
     "text": [
      "<class 'pandas.core.frame.DataFrame'>\n",
      "RangeIndex: 26173514 entries, 0 to 26173513\n",
      "Data columns (total 7 columns):\n",
      " #   Column   Dtype         \n",
      "---  ------   -----         \n",
      " 0   title    object        \n",
      " 1   rank     int64         \n",
      " 2   date     datetime64[ns]\n",
      " 3   artist   object        \n",
      " 4   region   object        \n",
      " 5   chart    object        \n",
      " 6   streams  float64       \n",
      "dtypes: datetime64[ns](1), float64(1), int64(1), object(4)\n",
      "memory usage: 1.4+ GB\n"
     ]
    }
   ],
   "source": [
    "df.info()"
   ]
  },
  {
   "cell_type": "markdown",
   "metadata": {},
   "source": [
    "## convert data types"
   ]
  },
  {
   "cell_type": "code",
   "execution_count": 7,
   "metadata": {},
   "outputs": [],
   "source": [
    "df['rank'] = df['rank'].astype(np.int16)"
   ]
  },
  {
   "cell_type": "markdown",
   "metadata": {},
   "source": [
    "## investigate missing data"
   ]
  },
  {
   "cell_type": "code",
   "execution_count": 8,
   "metadata": {},
   "outputs": [
    {
     "data": {
      "text/plain": [
       "title           11\n",
       "rank             0\n",
       "date             0\n",
       "artist          18\n",
       "region           0\n",
       "chart            0\n",
       "streams    5851610\n",
       "dtype: int64"
      ]
     },
     "execution_count": 8,
     "metadata": {},
     "output_type": "execute_result"
    }
   ],
   "source": [
    "df.isna().sum()"
   ]
  },
  {
   "cell_type": "code",
   "execution_count": 9,
   "metadata": {},
   "outputs": [
    {
     "data": {
      "text/plain": [
       "title       0.0\n",
       "rank        0.0\n",
       "date        0.0\n",
       "artist      0.0\n",
       "region      0.0\n",
       "chart       0.0\n",
       "streams    22.4\n",
       "dtype: float64"
      ]
     },
     "execution_count": 9,
     "metadata": {},
     "output_type": "execute_result"
    }
   ],
   "source": [
    "# missing data in percentage\n",
    "\n",
    "np.round(100 * df.isna().sum() / len(df), 1)"
   ]
  },
  {
   "cell_type": "code",
   "execution_count": 10,
   "metadata": {},
   "outputs": [
    {
     "data": {
      "text/plain": [
       "title      119381\n",
       "rank           54\n",
       "date         1819\n",
       "artist      81123\n",
       "region         70\n",
       "chart           1\n",
       "streams         0\n",
       "dtype: int64"
      ]
     },
     "execution_count": 10,
     "metadata": {},
     "output_type": "execute_result"
    }
   ],
   "source": [
    "df[df['streams'].isna()].nunique()"
   ]
  },
  {
   "cell_type": "code",
   "execution_count": 11,
   "metadata": {},
   "outputs": [
    {
     "data": {
      "text/plain": [
       "array(['viral50'], dtype=object)"
      ]
     },
     "execution_count": 11,
     "metadata": {},
     "output_type": "execute_result"
    }
   ],
   "source": [
    "df[df['streams'].isna()]['chart'].unique()"
   ]
  },
  {
   "cell_type": "markdown",
   "metadata": {},
   "source": [
    "Because missing values of the other 2 columns 'title' and 'artist' are minor I drop them.<br>\n",
    "Missing streaming entries only occur on chart type 'viral50'.<br>\n",
    "Hence the further analysis will focus on records excluding the 'viral50'.\n",
    "<br>\n",
    "<br>"
   ]
  },
  {
   "cell_type": "code",
   "execution_count": 12,
   "metadata": {},
   "outputs": [],
   "source": [
    "df = df[df['chart'] != 'viral50']\n",
    "df.drop('chart', axis=1, inplace=True)\n",
    "df.dropna(inplace=True)"
   ]
  },
  {
   "cell_type": "code",
   "execution_count": 13,
   "metadata": {},
   "outputs": [
    {
     "data": {
      "text/plain": [
       "title      0\n",
       "rank       0\n",
       "date       0\n",
       "artist     0\n",
       "region     0\n",
       "streams    0\n",
       "dtype: int64"
      ]
     },
     "execution_count": 13,
     "metadata": {},
     "output_type": "execute_result"
    }
   ],
   "source": [
    "df.isna().sum()"
   ]
  },
  {
   "cell_type": "markdown",
   "metadata": {},
   "source": [
    "## check data integrity"
   ]
  },
  {
   "cell_type": "code",
   "execution_count": 14,
   "metadata": {},
   "outputs": [
    {
     "data": {
      "text/plain": [
       "365000"
      ]
     },
     "execution_count": 14,
     "metadata": {},
     "output_type": "execute_result"
    }
   ],
   "source": [
    "full_data = 365 * 5 * 200\n",
    "full_data # the amount of data that I expect for 5 years of daily chart results with 200 ranks"
   ]
  },
  {
   "cell_type": "code",
   "execution_count": 15,
   "metadata": {},
   "outputs": [
    {
     "data": {
      "text/plain": [
       "Brazil           99.9\n",
       "Argentina        99.8\n",
       "United States    99.8\n",
       "Austria          99.7\n",
       "Australia        99.2\n",
       "                 ... \n",
       "Russia           27.6\n",
       "Ukraine          27.6\n",
       "Bulgaria         26.0\n",
       "South Korea      16.3\n",
       "Luxembourg        2.5\n",
       "Name: region, Length: 69, dtype: float64"
      ]
     },
     "execution_count": 15,
     "metadata": {},
     "output_type": "execute_result"
    }
   ],
   "source": [
    "# integrity ratio by region\n",
    "\n",
    "region_data_volume = np.round(df['region'].value_counts() * 100 / full_data, 1)\n",
    "region_data_volume"
   ]
  },
  {
   "cell_type": "code",
   "execution_count": 16,
   "metadata": {},
   "outputs": [
    {
     "data": {
      "text/plain": [
       "0.5797101449275363"
      ]
     },
     "execution_count": 16,
     "metadata": {},
     "output_type": "execute_result"
    }
   ],
   "source": [
    "len(region_data_volume[region_data_volume >= 95]) / df['region'].nunique()"
   ]
  },
  {
   "cell_type": "markdown",
   "metadata": {},
   "source": [
    "For further analysis on region level I only consider regions with data quality of min 95%"
   ]
  },
  {
   "cell_type": "code",
   "execution_count": 17,
   "metadata": {},
   "outputs": [
    {
     "data": {
      "text/plain": [
       "['Brazil',\n",
       " 'Argentina',\n",
       " 'United States',\n",
       " 'Austria',\n",
       " 'Australia',\n",
       " 'Global',\n",
       " 'Canada',\n",
       " 'United Kingdom',\n",
       " 'Switzerland',\n",
       " 'France',\n",
       " 'Philippines',\n",
       " 'Ireland',\n",
       " 'Indonesia',\n",
       " 'Malaysia',\n",
       " 'Belgium',\n",
       " 'Sweden',\n",
       " 'Denmark',\n",
       " 'Singapore',\n",
       " 'Hong Kong',\n",
       " 'New Zealand',\n",
       " 'Costa Rica',\n",
       " 'Ecuador',\n",
       " 'Italy',\n",
       " 'Colombia',\n",
       " 'Spain',\n",
       " 'Mexico',\n",
       " 'Finland',\n",
       " 'Turkey',\n",
       " 'Poland',\n",
       " 'Taiwan',\n",
       " 'Norway',\n",
       " 'Chile',\n",
       " 'Peru',\n",
       " 'Netherlands',\n",
       " 'Portugal',\n",
       " 'Germany',\n",
       " 'Czech Republic',\n",
       " 'Japan',\n",
       " 'Guatemala',\n",
       " 'Uruguay']"
      ]
     },
     "execution_count": 17,
     "metadata": {},
     "output_type": "execute_result"
    }
   ],
   "source": [
    "complete_regions = region_data_volume[region_data_volume >= 95].index.to_list()\n",
    "complete_regions"
   ]
  },
  {
   "cell_type": "code",
   "execution_count": 18,
   "metadata": {},
   "outputs": [
    {
     "data": {
      "text/plain": [
       "40"
      ]
     },
     "execution_count": 18,
     "metadata": {},
     "output_type": "execute_result"
    }
   ],
   "source": [
    "len(complete_regions)"
   ]
  },
  {
   "cell_type": "markdown",
   "metadata": {},
   "source": [
    "40 regions remain in the data for further analyses.\n",
    "<br>\n",
    "<br>"
   ]
  },
  {
   "cell_type": "code",
   "execution_count": 19,
   "metadata": {},
   "outputs": [],
   "source": [
    "df = df[df['region'].isin(complete_regions)]"
   ]
  },
  {
   "cell_type": "markdown",
   "metadata": {},
   "source": [
    "In the upcomming analyses I assume the global streaming data based on the remaining regions above the data integrity threshold.\n",
    "<br>\n",
    "<br>"
   ]
  },
  {
   "cell_type": "markdown",
   "metadata": {},
   "source": [
    "## Data exploration for each column"
   ]
  },
  {
   "cell_type": "code",
   "execution_count": 20,
   "metadata": {},
   "outputs": [
    {
     "data": {
      "text/plain": [
       "Index(['title', 'rank', 'date', 'artist', 'region', 'streams'], dtype='object')"
      ]
     },
     "execution_count": 20,
     "metadata": {},
     "output_type": "execute_result"
    }
   ],
   "source": [
    "df.columns"
   ]
  },
  {
   "cell_type": "markdown",
   "metadata": {},
   "source": [
    "### title"
   ]
  },
  {
   "cell_type": "code",
   "execution_count": 21,
   "metadata": {},
   "outputs": [
    {
     "data": {
      "text/plain": [
       "70579"
      ]
     },
     "execution_count": 21,
     "metadata": {},
     "output_type": "execute_result"
    }
   ],
   "source": [
    "df['title'].nunique()"
   ]
  },
  {
   "cell_type": "code",
   "execution_count": 22,
   "metadata": {},
   "outputs": [
    {
     "data": {
      "text/plain": [
       "0               Chantaje (feat. Maluma)\n",
       "1           Vente Pa' Ca (feat. Maluma)\n",
       "2            Reggaetón Lento (Bailemos)\n",
       "3                                Safari\n",
       "4                           Shaky Shaky\n",
       "                       ...             \n",
       "25276069           Ojalá (feat. Darell)\n",
       "25276070        Lo Que Pasa en la Noche\n",
       "25276071                  El Equivocado\n",
       "25276072              Que Fui Tu Amante\n",
       "25276073                           Solo\n",
       "Name: title, Length: 14352173, dtype: object"
      ]
     },
     "execution_count": 22,
     "metadata": {},
     "output_type": "execute_result"
    }
   ],
   "source": [
    "df['title']"
   ]
  },
  {
   "cell_type": "markdown",
   "metadata": {},
   "source": [
    "### rank"
   ]
  },
  {
   "cell_type": "code",
   "execution_count": 23,
   "metadata": {},
   "outputs": [
    {
     "data": {
      "text/plain": [
       "200"
      ]
     },
     "execution_count": 23,
     "metadata": {},
     "output_type": "execute_result"
    }
   ],
   "source": [
    "df['rank'].nunique()"
   ]
  },
  {
   "cell_type": "code",
   "execution_count": 24,
   "metadata": {},
   "outputs": [
    {
     "data": {
      "text/plain": [
       "(1, 200)"
      ]
     },
     "execution_count": 24,
     "metadata": {},
     "output_type": "execute_result"
    }
   ],
   "source": [
    "df['rank'].min(), df['rank'].max()"
   ]
  },
  {
   "cell_type": "markdown",
   "metadata": {},
   "source": [
    "### date"
   ]
  },
  {
   "cell_type": "code",
   "execution_count": 25,
   "metadata": {},
   "outputs": [
    {
     "data": {
      "text/plain": [
       "(Timestamp('2017-01-01 00:00:00'), Timestamp('2021-12-31 00:00:00'))"
      ]
     },
     "execution_count": 25,
     "metadata": {},
     "output_type": "execute_result"
    }
   ],
   "source": [
    "df['date'].min(), df['date'].max()"
   ]
  },
  {
   "cell_type": "markdown",
   "metadata": {},
   "source": [
    "### artist"
   ]
  },
  {
   "cell_type": "code",
   "execution_count": 26,
   "metadata": {},
   "outputs": [
    {
     "data": {
      "text/plain": [
       "0                                         Shakira\n",
       "1                                    Ricky Martin\n",
       "2                                            CNCO\n",
       "3           J Balvin, Pharrell Williams, BIA, Sky\n",
       "4                                    Daddy Yankee\n",
       "                            ...                  \n",
       "25276069     De La Ghetto, Almighty, Bryant Myers\n",
       "25276070                              Mano Arriba\n",
       "25276071                              Mano Arriba\n",
       "25276072                      El Gucci y Su Banda\n",
       "25276073                      Amenazzy, Lary Over\n",
       "Name: artist, Length: 14352173, dtype: object"
      ]
     },
     "execution_count": 26,
     "metadata": {},
     "output_type": "execute_result"
    }
   ],
   "source": [
    "df['artist']"
   ]
  },
  {
   "cell_type": "code",
   "execution_count": 27,
   "metadata": {},
   "outputs": [
    {
     "data": {
      "text/plain": [
       "29200"
      ]
     },
     "execution_count": 27,
     "metadata": {},
     "output_type": "execute_result"
    }
   ],
   "source": [
    "df['artist'].nunique()"
   ]
  },
  {
   "cell_type": "markdown",
   "metadata": {},
   "source": [
    "The artist columns shows multiple artists seperated by comma in case of collaborations"
   ]
  },
  {
   "cell_type": "markdown",
   "metadata": {},
   "source": [
    "### region"
   ]
  },
  {
   "cell_type": "code",
   "execution_count": 28,
   "metadata": {},
   "outputs": [
    {
     "data": {
      "text/plain": [
       "40"
      ]
     },
     "execution_count": 28,
     "metadata": {},
     "output_type": "execute_result"
    }
   ],
   "source": [
    "df['region'].nunique()"
   ]
  },
  {
   "cell_type": "code",
   "execution_count": 29,
   "metadata": {},
   "outputs": [
    {
     "data": {
      "text/plain": [
       "array(['Argentina', 'Australia', 'Brazil', 'Austria', 'Belgium',\n",
       "       'Colombia', 'Denmark', 'Canada', 'Chile', 'Costa Rica',\n",
       "       'Czech Republic', 'Finland', 'Ecuador', 'France', 'Germany',\n",
       "       'Global', 'Guatemala', 'Hong Kong', 'Indonesia', 'Ireland',\n",
       "       'Italy', 'Japan', 'Malaysia', 'Mexico', 'Netherlands',\n",
       "       'New Zealand', 'Norway', 'Peru', 'Philippines', 'Poland',\n",
       "       'Portugal', 'Singapore', 'Spain', 'Sweden', 'Taiwan',\n",
       "       'Switzerland', 'Turkey', 'United Kingdom', 'United States',\n",
       "       'Uruguay'], dtype=object)"
      ]
     },
     "execution_count": 29,
     "metadata": {},
     "output_type": "execute_result"
    }
   ],
   "source": [
    "df['region'].unique()"
   ]
  },
  {
   "cell_type": "markdown",
   "metadata": {},
   "source": [
    "### streams"
   ]
  },
  {
   "cell_type": "code",
   "execution_count": 30,
   "metadata": {},
   "outputs": [
    {
     "data": {
      "text/plain": [
       "count    14352.173000\n",
       "mean        75.917669\n",
       "std        246.330489\n",
       "min          1.001000\n",
       "25%          7.089000\n",
       "50%         19.434000\n",
       "75%         51.128000\n",
       "max      19749.704000\n",
       "Name: streams, dtype: float64"
      ]
     },
     "execution_count": 30,
     "metadata": {},
     "output_type": "execute_result"
    }
   ],
   "source": [
    "df['streams'].describe() / 1000"
   ]
  },
  {
   "cell_type": "code",
   "execution_count": 31,
   "metadata": {
    "tags": [
     "end of EDA"
    ]
   },
   "outputs": [
    {
     "data": {
      "text/html": [
       "<div>\n",
       "<style scoped>\n",
       "    .dataframe tbody tr th:only-of-type {\n",
       "        vertical-align: middle;\n",
       "    }\n",
       "\n",
       "    .dataframe tbody tr th {\n",
       "        vertical-align: top;\n",
       "    }\n",
       "\n",
       "    .dataframe thead th {\n",
       "        text-align: right;\n",
       "    }\n",
       "</style>\n",
       "<table border=\"1\" class=\"dataframe\">\n",
       "  <thead>\n",
       "    <tr style=\"text-align: right;\">\n",
       "      <th></th>\n",
       "      <th>title</th>\n",
       "      <th>rank</th>\n",
       "      <th>date</th>\n",
       "      <th>artist</th>\n",
       "      <th>region</th>\n",
       "      <th>streams</th>\n",
       "    </tr>\n",
       "  </thead>\n",
       "  <tbody>\n",
       "    <tr>\n",
       "      <th>22999369</th>\n",
       "      <td>Easy On Me</td>\n",
       "      <td>1</td>\n",
       "      <td>2021-10-15</td>\n",
       "      <td>Adele</td>\n",
       "      <td>Global</td>\n",
       "      <td>19749704.0</td>\n",
       "    </tr>\n",
       "  </tbody>\n",
       "</table>\n",
       "</div>"
      ],
      "text/plain": [
       "               title  rank       date artist  region     streams\n",
       "22999369  Easy On Me     1 2021-10-15  Adele  Global  19749704.0"
      ]
     },
     "execution_count": 31,
     "metadata": {},
     "output_type": "execute_result"
    }
   ],
   "source": [
    "df[df['streams'] == df['streams'].max()]"
   ]
  },
  {
   "cell_type": "markdown",
   "metadata": {},
   "source": [
    "# Analysis    <img src=\"barchart icon 3.png\" width=\"30\"/>"
   ]
  },
  {
   "cell_type": "markdown",
   "metadata": {},
   "source": [
    "## whats the overall spotify development between 2017 and 2021"
   ]
  },
  {
   "cell_type": "code",
   "execution_count": 32,
   "metadata": {},
   "outputs": [
    {
     "data": {
      "text/html": [
       "<div>\n",
       "<style scoped>\n",
       "    .dataframe tbody tr th:only-of-type {\n",
       "        vertical-align: middle;\n",
       "    }\n",
       "\n",
       "    .dataframe tbody tr th {\n",
       "        vertical-align: top;\n",
       "    }\n",
       "\n",
       "    .dataframe thead th {\n",
       "        text-align: right;\n",
       "    }\n",
       "</style>\n",
       "<table border=\"1\" class=\"dataframe\">\n",
       "  <thead>\n",
       "    <tr style=\"text-align: right;\">\n",
       "      <th></th>\n",
       "      <th>title</th>\n",
       "      <th>rank</th>\n",
       "      <th>date</th>\n",
       "      <th>artist</th>\n",
       "      <th>region</th>\n",
       "      <th>streams</th>\n",
       "      <th>year</th>\n",
       "      <th>month</th>\n",
       "      <th>top10</th>\n",
       "    </tr>\n",
       "  </thead>\n",
       "  <tbody>\n",
       "    <tr>\n",
       "      <th>0</th>\n",
       "      <td>Chantaje (feat. Maluma)</td>\n",
       "      <td>1</td>\n",
       "      <td>2017-01-01</td>\n",
       "      <td>Shakira</td>\n",
       "      <td>Argentina</td>\n",
       "      <td>253019.0</td>\n",
       "      <td>2017</td>\n",
       "      <td>1</td>\n",
       "      <td>True</td>\n",
       "    </tr>\n",
       "    <tr>\n",
       "      <th>1</th>\n",
       "      <td>Vente Pa' Ca (feat. Maluma)</td>\n",
       "      <td>2</td>\n",
       "      <td>2017-01-01</td>\n",
       "      <td>Ricky Martin</td>\n",
       "      <td>Argentina</td>\n",
       "      <td>223988.0</td>\n",
       "      <td>2017</td>\n",
       "      <td>1</td>\n",
       "      <td>True</td>\n",
       "    </tr>\n",
       "    <tr>\n",
       "      <th>2</th>\n",
       "      <td>Reggaetón Lento (Bailemos)</td>\n",
       "      <td>3</td>\n",
       "      <td>2017-01-01</td>\n",
       "      <td>CNCO</td>\n",
       "      <td>Argentina</td>\n",
       "      <td>210943.0</td>\n",
       "      <td>2017</td>\n",
       "      <td>1</td>\n",
       "      <td>True</td>\n",
       "    </tr>\n",
       "    <tr>\n",
       "      <th>3</th>\n",
       "      <td>Safari</td>\n",
       "      <td>4</td>\n",
       "      <td>2017-01-01</td>\n",
       "      <td>J Balvin, Pharrell Williams, BIA, Sky</td>\n",
       "      <td>Argentina</td>\n",
       "      <td>173865.0</td>\n",
       "      <td>2017</td>\n",
       "      <td>1</td>\n",
       "      <td>True</td>\n",
       "    </tr>\n",
       "    <tr>\n",
       "      <th>4</th>\n",
       "      <td>Shaky Shaky</td>\n",
       "      <td>5</td>\n",
       "      <td>2017-01-01</td>\n",
       "      <td>Daddy Yankee</td>\n",
       "      <td>Argentina</td>\n",
       "      <td>153956.0</td>\n",
       "      <td>2017</td>\n",
       "      <td>1</td>\n",
       "      <td>True</td>\n",
       "    </tr>\n",
       "  </tbody>\n",
       "</table>\n",
       "</div>"
      ],
      "text/plain": [
       "                         title  rank       date  \\\n",
       "0      Chantaje (feat. Maluma)     1 2017-01-01   \n",
       "1  Vente Pa' Ca (feat. Maluma)     2 2017-01-01   \n",
       "2   Reggaetón Lento (Bailemos)     3 2017-01-01   \n",
       "3                       Safari     4 2017-01-01   \n",
       "4                  Shaky Shaky     5 2017-01-01   \n",
       "\n",
       "                                  artist     region   streams  year  month  \\\n",
       "0                                Shakira  Argentina  253019.0  2017      1   \n",
       "1                           Ricky Martin  Argentina  223988.0  2017      1   \n",
       "2                                   CNCO  Argentina  210943.0  2017      1   \n",
       "3  J Balvin, Pharrell Williams, BIA, Sky  Argentina  173865.0  2017      1   \n",
       "4                           Daddy Yankee  Argentina  153956.0  2017      1   \n",
       "\n",
       "   top10  \n",
       "0   True  \n",
       "1   True  \n",
       "2   True  \n",
       "3   True  \n",
       "4   True  "
      ]
     },
     "execution_count": 32,
     "metadata": {},
     "output_type": "execute_result"
    }
   ],
   "source": [
    "df_songs = df.copy()\n",
    "\n",
    "df_songs = df_songs.loc[(df_songs['region'] != 'Global')]\n",
    "df_songs['year'] = df_songs['date'].dt.year\n",
    "df_songs['month'] = df_songs['date'].dt.month\n",
    "df_songs['top10'] = df_songs['rank'] <= 10\n",
    "\n",
    "df_songs.head()"
   ]
  },
  {
   "cell_type": "code",
   "execution_count": 33,
   "metadata": {},
   "outputs": [
    {
     "data": {
      "image/png": "[encoded data removed]",
      "text/plain": [
       "<Figure size 720x288 with 1 Axes>"
      ]
     },
     "metadata": {
      "needs_background": "light"
     },
     "output_type": "display_data"
    }
   ],
   "source": [
    "total_streams_dev = df_songs.groupby('year')['streams'].sum()\n",
    "total_streams_dev = np.round(total_streams_dev / 1000000 / 365, 2)\n",
    "\n",
    "plt.figure(figsize=(10,4))\n",
    "total_streams_dev.plot(kind='bar')\n",
    "\n",
    "plt.title('Global streams on Spotify\\n',  fontsize=24, fontweight='bold')\n",
    "plt.ylabel('Streams in million\\n',  fontsize=12, fontweight='bold')\n",
    "plt.xlabel('\\nYears',  fontsize=12, fontweight='bold')\n",
    "plt.xticks(rotation=0)\n",
    "\n",
    "plt.show()"
   ]
  },
  {
   "cell_type": "code",
   "execution_count": 34,
   "metadata": {},
   "outputs": [
    {
     "data": {
      "image/png": "[encoded data removed]",
      "text/plain": [
       "<Figure size 720x288 with 1 Axes>"
      ]
     },
     "metadata": {
      "needs_background": "light"
     },
     "output_type": "display_data"
    }
   ],
   "source": [
    "global_stream_growt_rates = np.round(((total_streams_dev[1:] / total_streams_dev.shift(1)[1:]) - 1) * 100, 1)\n",
    "\n",
    "plt.figure(figsize=(10,4))\n",
    "global_stream_growt_rates.plot(kind='bar')\n",
    "\n",
    "plt.title('Global growth rates YoY\\n',  fontsize=24, fontweight='bold')\n",
    "plt.ylabel('% growth rate\\n',  fontsize=12, fontweight='bold')\n",
    "plt.xlabel('\\nYears',  fontsize=12, fontweight='bold')\n",
    "plt.xticks(rotation=0)\n",
    "\n",
    "plt.show()"
   ]
  },
  {
   "cell_type": "markdown",
   "metadata": {},
   "source": [
    "Spotify streams are continuously increasing until 2020. But the growth rates are decreasing year over year. 2021 is the first year where Spotify is facing an overall decline.\n",
    "<br>\n",
    "<br>"
   ]
  },
  {
   "cell_type": "markdown",
   "metadata": {},
   "source": [
    "## most relevant regions"
   ]
  },
  {
   "cell_type": "code",
   "execution_count": 35,
   "metadata": {},
   "outputs": [
    {
     "data": {
      "text/html": [
       "<div>\n",
       "<style scoped>\n",
       "    .dataframe tbody tr th:only-of-type {\n",
       "        vertical-align: middle;\n",
       "    }\n",
       "\n",
       "    .dataframe tbody tr th {\n",
       "        vertical-align: top;\n",
       "    }\n",
       "\n",
       "    .dataframe thead th {\n",
       "        text-align: right;\n",
       "    }\n",
       "</style>\n",
       "<table border=\"1\" class=\"dataframe\">\n",
       "  <thead>\n",
       "    <tr style=\"text-align: right;\">\n",
       "      <th>year</th>\n",
       "      <th>2017</th>\n",
       "      <th>2018</th>\n",
       "      <th>2019</th>\n",
       "      <th>2020</th>\n",
       "      <th>2021</th>\n",
       "    </tr>\n",
       "    <tr>\n",
       "      <th>region</th>\n",
       "      <th></th>\n",
       "      <th></th>\n",
       "      <th></th>\n",
       "      <th></th>\n",
       "      <th></th>\n",
       "    </tr>\n",
       "  </thead>\n",
       "  <tbody>\n",
       "    <tr>\n",
       "      <th>United States</th>\n",
       "      <td>2.576422e+10</td>\n",
       "      <td>3.078605e+10</td>\n",
       "      <td>2.979248e+10</td>\n",
       "      <td>2.869323e+10</td>\n",
       "      <td>2.709611e+10</td>\n",
       "    </tr>\n",
       "    <tr>\n",
       "      <th>United Kingdom</th>\n",
       "      <td>7.031798e+09</td>\n",
       "      <td>7.700533e+09</td>\n",
       "      <td>7.756377e+09</td>\n",
       "      <td>7.357028e+09</td>\n",
       "      <td>6.563064e+09</td>\n",
       "    </tr>\n",
       "    <tr>\n",
       "      <th>Brazil</th>\n",
       "      <td>6.677868e+09</td>\n",
       "      <td>9.133617e+09</td>\n",
       "      <td>1.110584e+10</td>\n",
       "      <td>1.252304e+10</td>\n",
       "      <td>1.642632e+10</td>\n",
       "    </tr>\n",
       "    <tr>\n",
       "      <th>Mexico</th>\n",
       "      <td>6.178260e+09</td>\n",
       "      <td>7.256065e+09</td>\n",
       "      <td>9.252325e+09</td>\n",
       "      <td>1.167878e+10</td>\n",
       "      <td>1.123048e+10</td>\n",
       "    </tr>\n",
       "    <tr>\n",
       "      <th>Germany</th>\n",
       "      <td>5.874815e+09</td>\n",
       "      <td>7.277458e+09</td>\n",
       "      <td>9.496090e+09</td>\n",
       "      <td>9.672041e+09</td>\n",
       "      <td>7.635866e+09</td>\n",
       "    </tr>\n",
       "  </tbody>\n",
       "</table>\n",
       "</div>"
      ],
      "text/plain": [
       "year                    2017          2018          2019          2020  \\\n",
       "region                                                                   \n",
       "United States   2.576422e+10  3.078605e+10  2.979248e+10  2.869323e+10   \n",
       "United Kingdom  7.031798e+09  7.700533e+09  7.756377e+09  7.357028e+09   \n",
       "Brazil          6.677868e+09  9.133617e+09  1.110584e+10  1.252304e+10   \n",
       "Mexico          6.178260e+09  7.256065e+09  9.252325e+09  1.167878e+10   \n",
       "Germany         5.874815e+09  7.277458e+09  9.496090e+09  9.672041e+09   \n",
       "\n",
       "year                    2021  \n",
       "region                        \n",
       "United States   2.709611e+10  \n",
       "United Kingdom  6.563064e+09  \n",
       "Brazil          1.642632e+10  \n",
       "Mexico          1.123048e+10  \n",
       "Germany         7.635866e+09  "
      ]
     },
     "execution_count": 35,
     "metadata": {},
     "output_type": "execute_result"
    }
   ],
   "source": [
    "rel_markets = df_songs.pivot_table(index='region', columns='year', values='streams', aggfunc=np.sum)\n",
    "rel_markets.sort_values(by=2017, ascending=False, inplace=True)\n",
    "rel_markets.head()"
   ]
  },
  {
   "cell_type": "code",
   "execution_count": 36,
   "metadata": {},
   "outputs": [
    {
     "data": {
      "text/html": [
       "<div>\n",
       "<style scoped>\n",
       "    .dataframe tbody tr th:only-of-type {\n",
       "        vertical-align: middle;\n",
       "    }\n",
       "\n",
       "    .dataframe tbody tr th {\n",
       "        vertical-align: top;\n",
       "    }\n",
       "\n",
       "    .dataframe thead th {\n",
       "        text-align: right;\n",
       "    }\n",
       "</style>\n",
       "<table border=\"1\" class=\"dataframe\">\n",
       "  <thead>\n",
       "    <tr style=\"text-align: right;\">\n",
       "      <th>year</th>\n",
       "      <th>2017</th>\n",
       "      <th>2018</th>\n",
       "      <th>2019</th>\n",
       "      <th>2020</th>\n",
       "      <th>2021</th>\n",
       "    </tr>\n",
       "    <tr>\n",
       "      <th>region</th>\n",
       "      <th></th>\n",
       "      <th></th>\n",
       "      <th></th>\n",
       "      <th></th>\n",
       "      <th></th>\n",
       "    </tr>\n",
       "  </thead>\n",
       "  <tbody>\n",
       "    <tr>\n",
       "      <th>United States</th>\n",
       "      <td>26.3</td>\n",
       "      <td>25.8</td>\n",
       "      <td>21.5</td>\n",
       "      <td>19.4</td>\n",
       "      <td>18.5</td>\n",
       "    </tr>\n",
       "    <tr>\n",
       "      <th>United Kingdom</th>\n",
       "      <td>7.2</td>\n",
       "      <td>6.5</td>\n",
       "      <td>5.6</td>\n",
       "      <td>5.0</td>\n",
       "      <td>4.5</td>\n",
       "    </tr>\n",
       "    <tr>\n",
       "      <th>Brazil</th>\n",
       "      <td>6.8</td>\n",
       "      <td>7.7</td>\n",
       "      <td>8.0</td>\n",
       "      <td>8.5</td>\n",
       "      <td>11.2</td>\n",
       "    </tr>\n",
       "    <tr>\n",
       "      <th>Mexico</th>\n",
       "      <td>6.3</td>\n",
       "      <td>6.1</td>\n",
       "      <td>6.7</td>\n",
       "      <td>7.9</td>\n",
       "      <td>7.7</td>\n",
       "    </tr>\n",
       "    <tr>\n",
       "      <th>Germany</th>\n",
       "      <td>6.0</td>\n",
       "      <td>6.1</td>\n",
       "      <td>6.8</td>\n",
       "      <td>6.5</td>\n",
       "      <td>5.2</td>\n",
       "    </tr>\n",
       "    <tr>\n",
       "      <th>Spain</th>\n",
       "      <td>3.7</td>\n",
       "      <td>3.9</td>\n",
       "      <td>4.1</td>\n",
       "      <td>4.4</td>\n",
       "      <td>4.5</td>\n",
       "    </tr>\n",
       "    <tr>\n",
       "      <th>Netherlands</th>\n",
       "      <td>3.5</td>\n",
       "      <td>3.2</td>\n",
       "      <td>3.0</td>\n",
       "      <td>2.7</td>\n",
       "      <td>2.4</td>\n",
       "    </tr>\n",
       "    <tr>\n",
       "      <th>Sweden</th>\n",
       "      <td>3.4</td>\n",
       "      <td>2.5</td>\n",
       "      <td>2.2</td>\n",
       "      <td>2.0</td>\n",
       "      <td>1.7</td>\n",
       "    </tr>\n",
       "    <tr>\n",
       "      <th>Australia</th>\n",
       "      <td>3.3</td>\n",
       "      <td>3.4</td>\n",
       "      <td>3.1</td>\n",
       "      <td>3.0</td>\n",
       "      <td>2.8</td>\n",
       "    </tr>\n",
       "    <tr>\n",
       "      <th>Philippines</th>\n",
       "      <td>3.3</td>\n",
       "      <td>2.9</td>\n",
       "      <td>2.9</td>\n",
       "      <td>2.7</td>\n",
       "      <td>2.7</td>\n",
       "    </tr>\n",
       "  </tbody>\n",
       "</table>\n",
       "</div>"
      ],
      "text/plain": [
       "year            2017  2018  2019  2020  2021\n",
       "region                                      \n",
       "United States   26.3  25.8  21.5  19.4  18.5\n",
       "United Kingdom   7.2   6.5   5.6   5.0   4.5\n",
       "Brazil           6.8   7.7   8.0   8.5  11.2\n",
       "Mexico           6.3   6.1   6.7   7.9   7.7\n",
       "Germany          6.0   6.1   6.8   6.5   5.2\n",
       "Spain            3.7   3.9   4.1   4.4   4.5\n",
       "Netherlands      3.5   3.2   3.0   2.7   2.4\n",
       "Sweden           3.4   2.5   2.2   2.0   1.7\n",
       "Australia        3.3   3.4   3.1   3.0   2.8\n",
       "Philippines      3.3   2.9   2.9   2.7   2.7"
      ]
     },
     "execution_count": 36,
     "metadata": {},
     "output_type": "execute_result"
    }
   ],
   "source": [
    "market_shares = np.round((rel_markets / rel_markets.sum(axis=0)) * 100, 1)\n",
    "market_shares.head(10)"
   ]
  },
  {
   "cell_type": "code",
   "execution_count": 37,
   "metadata": {},
   "outputs": [
    {
     "data": {
      "image/png": "[encoded data removed]",
      "text/plain": [
       "<Figure size 720x432 with 1 Axes>"
      ]
     },
     "metadata": {
      "needs_background": "light"
     },
     "output_type": "display_data"
    }
   ],
   "source": [
    "market_shares.head(4).plot(kind='bar', figsize=(10,6))\n",
    "\n",
    "plt.title('Market Share development top 4 regions\\n',  fontsize=24, fontweight='bold')\n",
    "plt.ylabel('% market share\\n',  fontsize=12, fontweight='bold')\n",
    "plt.xlabel('\\nRegion', fontsize=12, fontweight='bold')\n",
    "plt.xticks(rotation=0)\n",
    "\n",
    "plt.show()"
   ]
  },
  {
   "cell_type": "markdown",
   "metadata": {},
   "source": [
    "Most relevant region in 2017 was USA with incredible 26.3% share of streaming volume. But between 2017 and 2021 their market share decreases.<br> Specially Brazil, Mexico and Spain are expanding the market share.<br>\n",
    "Let's double check this development by calculating year over year growth rates by region."
   ]
  },
  {
   "cell_type": "code",
   "execution_count": 38,
   "metadata": {},
   "outputs": [
    {
     "data": {
      "text/html": [
       "<div>\n",
       "<style scoped>\n",
       "    .dataframe tbody tr th:only-of-type {\n",
       "        vertical-align: middle;\n",
       "    }\n",
       "\n",
       "    .dataframe tbody tr th {\n",
       "        vertical-align: top;\n",
       "    }\n",
       "\n",
       "    .dataframe thead th {\n",
       "        text-align: right;\n",
       "    }\n",
       "</style>\n",
       "<table border=\"1\" class=\"dataframe\">\n",
       "  <thead>\n",
       "    <tr style=\"text-align: right;\">\n",
       "      <th>year</th>\n",
       "      <th>2018</th>\n",
       "      <th>2019</th>\n",
       "      <th>2020</th>\n",
       "      <th>2021</th>\n",
       "    </tr>\n",
       "    <tr>\n",
       "      <th>region</th>\n",
       "      <th></th>\n",
       "      <th></th>\n",
       "      <th></th>\n",
       "      <th></th>\n",
       "    </tr>\n",
       "  </thead>\n",
       "  <tbody>\n",
       "    <tr>\n",
       "      <th>United States</th>\n",
       "      <td>19.0</td>\n",
       "      <td>-3.0</td>\n",
       "      <td>-4.0</td>\n",
       "      <td>-6.0</td>\n",
       "    </tr>\n",
       "    <tr>\n",
       "      <th>United Kingdom</th>\n",
       "      <td>10.0</td>\n",
       "      <td>1.0</td>\n",
       "      <td>-5.0</td>\n",
       "      <td>-11.0</td>\n",
       "    </tr>\n",
       "    <tr>\n",
       "      <th>Brazil</th>\n",
       "      <td>37.0</td>\n",
       "      <td>22.0</td>\n",
       "      <td>13.0</td>\n",
       "      <td>31.0</td>\n",
       "    </tr>\n",
       "    <tr>\n",
       "      <th>Mexico</th>\n",
       "      <td>17.0</td>\n",
       "      <td>28.0</td>\n",
       "      <td>26.0</td>\n",
       "      <td>-4.0</td>\n",
       "    </tr>\n",
       "    <tr>\n",
       "      <th>Germany</th>\n",
       "      <td>24.0</td>\n",
       "      <td>30.0</td>\n",
       "      <td>2.0</td>\n",
       "      <td>-21.0</td>\n",
       "    </tr>\n",
       "  </tbody>\n",
       "</table>\n",
       "</div>"
      ],
      "text/plain": [
       "year            2018  2019  2020  2021\n",
       "region                                \n",
       "United States   19.0  -3.0  -4.0  -6.0\n",
       "United Kingdom  10.0   1.0  -5.0 -11.0\n",
       "Brazil          37.0  22.0  13.0  31.0\n",
       "Mexico          17.0  28.0  26.0  -4.0\n",
       "Germany         24.0  30.0   2.0 -21.0"
      ]
     },
     "execution_count": 38,
     "metadata": {},
     "output_type": "execute_result"
    }
   ],
   "source": [
    "stream_growth_region = np.round(((rel_markets.iloc[:, 1:] / rel_markets.shift(periods=1, axis=1).iloc[:, 1:]) - 1) * 100, 0)\n",
    "stream_growth_region.head()"
   ]
  },
  {
   "cell_type": "code",
   "execution_count": 39,
   "metadata": {},
   "outputs": [
    {
     "data": {
      "image/png": "[encoded data removed]",
      "text/plain": [
       "<Figure size 720x432 with 1 Axes>"
      ]
     },
     "metadata": {
      "needs_background": "light"
     },
     "output_type": "display_data"
    }
   ],
   "source": [
    "stream_growth_region.head(4).plot(kind='bar', figsize=(10,6))\n",
    "\n",
    "plt.title('YoY growth rates top 4 regions\\n',  fontsize=24, fontweight='bold')\n",
    "plt.ylabel('% growth rate\\n',  fontsize=12, fontweight='bold')\n",
    "plt.xlabel('\\nRegion', fontsize=12, fontweight='bold')\n",
    "plt.xticks(rotation=0)\n",
    "\n",
    "plt.show()\n"
   ]
  },
  {
   "cell_type": "markdown",
   "metadata": {},
   "source": [
    "Confirmed by the YoY growth rates, USA and UK are losing market share because they only show decreasing trend in streaming volume since 2019.<br>\n",
    "Brazil and Mexico show incredible growth rates >30%. Brazil can even resist the overall downwards trend in 2021 in contrast to all other countries."
   ]
  },
  {
   "cell_type": "code",
   "execution_count": 40,
   "metadata": {},
   "outputs": [],
   "source": [
    "top10_regions = market_shares.head(10).index.to_list() # top 10 regions by market share\n",
    "data = stream_growth_region.loc[top10_regions] # grow rates of top 10 regions"
   ]
  },
  {
   "cell_type": "code",
   "execution_count": 41,
   "metadata": {},
   "outputs": [
    {
     "data": {
      "image/png": "[encoded data removed]",
      "text/plain": [
       "<Figure size 576x432 with 2 Axes>"
      ]
     },
     "metadata": {
      "needs_background": "light"
     },
     "output_type": "display_data"
    }
   ],
   "source": [
    "plt.figure(figsize=(8, 6))\n",
    "cmap = sns.diverging_palette(h_neg=0, h_pos=130, s=70, l=60, n=4)\n",
    "\n",
    "sns.heatmap(data=data, center=0, annot=True, cmap=cmap, linewidths=2, annot_kws={\"size\":12})\n",
    "\n",
    "plt.title('% YoY growth rates by region\\n', fontsize=24, fontweight='bold')\n",
    "plt.ylabel('Region', fontsize=12, fontweight='bold')\n",
    "plt.xlabel('Year', fontsize=12, fontweight='bold')\n",
    "\n",
    "plt.show()"
   ]
  },
  {
   "cell_type": "markdown",
   "metadata": {},
   "source": [
    "Among the top 10 regions, Brazil is the only one which still continoues to grow in 2021.<br> All other countries show a decline following the overall Spotify trend.<br> Germany shows the worst development in 2021 with 21% reduction.<br> Sweden seems to be the least promising market showing decreases almost every year."
   ]
  },
  {
   "cell_type": "markdown",
   "metadata": {},
   "source": [
    "## artist analysis"
   ]
  },
  {
   "cell_type": "code",
   "execution_count": 42,
   "metadata": {},
   "outputs": [
    {
     "data": {
      "text/html": [
       "<div>\n",
       "<style scoped>\n",
       "    .dataframe tbody tr th:only-of-type {\n",
       "        vertical-align: middle;\n",
       "    }\n",
       "\n",
       "    .dataframe tbody tr th {\n",
       "        vertical-align: top;\n",
       "    }\n",
       "\n",
       "    .dataframe thead th {\n",
       "        text-align: right;\n",
       "    }\n",
       "</style>\n",
       "<table border=\"1\" class=\"dataframe\">\n",
       "  <thead>\n",
       "    <tr style=\"text-align: right;\">\n",
       "      <th></th>\n",
       "      <th>title</th>\n",
       "      <th>rank</th>\n",
       "      <th>date</th>\n",
       "      <th>artist</th>\n",
       "      <th>region</th>\n",
       "      <th>streams</th>\n",
       "      <th>year</th>\n",
       "      <th>month</th>\n",
       "      <th>top10</th>\n",
       "    </tr>\n",
       "  </thead>\n",
       "  <tbody>\n",
       "    <tr>\n",
       "      <th>0</th>\n",
       "      <td>Chantaje (feat. Maluma)</td>\n",
       "      <td>1</td>\n",
       "      <td>2017-01-01</td>\n",
       "      <td>Shakira</td>\n",
       "      <td>Argentina</td>\n",
       "      <td>253019.0</td>\n",
       "      <td>2017</td>\n",
       "      <td>1</td>\n",
       "      <td>True</td>\n",
       "    </tr>\n",
       "    <tr>\n",
       "      <th>1</th>\n",
       "      <td>Vente Pa' Ca (feat. Maluma)</td>\n",
       "      <td>2</td>\n",
       "      <td>2017-01-01</td>\n",
       "      <td>Ricky Martin</td>\n",
       "      <td>Argentina</td>\n",
       "      <td>223988.0</td>\n",
       "      <td>2017</td>\n",
       "      <td>1</td>\n",
       "      <td>True</td>\n",
       "    </tr>\n",
       "    <tr>\n",
       "      <th>2</th>\n",
       "      <td>Reggaetón Lento (Bailemos)</td>\n",
       "      <td>3</td>\n",
       "      <td>2017-01-01</td>\n",
       "      <td>CNCO</td>\n",
       "      <td>Argentina</td>\n",
       "      <td>210943.0</td>\n",
       "      <td>2017</td>\n",
       "      <td>1</td>\n",
       "      <td>True</td>\n",
       "    </tr>\n",
       "    <tr>\n",
       "      <th>3</th>\n",
       "      <td>Safari</td>\n",
       "      <td>4</td>\n",
       "      <td>2017-01-01</td>\n",
       "      <td>J Balvin, Pharrell Williams, BIA, Sky</td>\n",
       "      <td>Argentina</td>\n",
       "      <td>173865.0</td>\n",
       "      <td>2017</td>\n",
       "      <td>1</td>\n",
       "      <td>True</td>\n",
       "    </tr>\n",
       "    <tr>\n",
       "      <th>4</th>\n",
       "      <td>Shaky Shaky</td>\n",
       "      <td>5</td>\n",
       "      <td>2017-01-01</td>\n",
       "      <td>Daddy Yankee</td>\n",
       "      <td>Argentina</td>\n",
       "      <td>153956.0</td>\n",
       "      <td>2017</td>\n",
       "      <td>1</td>\n",
       "      <td>True</td>\n",
       "    </tr>\n",
       "  </tbody>\n",
       "</table>\n",
       "</div>"
      ],
      "text/plain": [
       "                         title  rank       date  \\\n",
       "0      Chantaje (feat. Maluma)     1 2017-01-01   \n",
       "1  Vente Pa' Ca (feat. Maluma)     2 2017-01-01   \n",
       "2   Reggaetón Lento (Bailemos)     3 2017-01-01   \n",
       "3                       Safari     4 2017-01-01   \n",
       "4                  Shaky Shaky     5 2017-01-01   \n",
       "\n",
       "                                  artist     region   streams  year  month  \\\n",
       "0                                Shakira  Argentina  253019.0  2017      1   \n",
       "1                           Ricky Martin  Argentina  223988.0  2017      1   \n",
       "2                                   CNCO  Argentina  210943.0  2017      1   \n",
       "3  J Balvin, Pharrell Williams, BIA, Sky  Argentina  173865.0  2017      1   \n",
       "4                           Daddy Yankee  Argentina  153956.0  2017      1   \n",
       "\n",
       "   top10  \n",
       "0   True  \n",
       "1   True  \n",
       "2   True  \n",
       "3   True  \n",
       "4   True  "
      ]
     },
     "execution_count": 42,
     "metadata": {},
     "output_type": "execute_result"
    }
   ],
   "source": [
    "df_artist = df_songs.copy()\n",
    "df_artist.head()"
   ]
  },
  {
   "cell_type": "code",
   "execution_count": 43,
   "metadata": {},
   "outputs": [
    {
     "data": {
      "text/html": [
       "<div>\n",
       "<style scoped>\n",
       "    .dataframe tbody tr th:only-of-type {\n",
       "        vertical-align: middle;\n",
       "    }\n",
       "\n",
       "    .dataframe tbody tr th {\n",
       "        vertical-align: top;\n",
       "    }\n",
       "\n",
       "    .dataframe thead th {\n",
       "        text-align: right;\n",
       "    }\n",
       "</style>\n",
       "<table border=\"1\" class=\"dataframe\">\n",
       "  <thead>\n",
       "    <tr style=\"text-align: right;\">\n",
       "      <th></th>\n",
       "      <th>title</th>\n",
       "      <th>rank</th>\n",
       "      <th>date</th>\n",
       "      <th>artist</th>\n",
       "      <th>region</th>\n",
       "      <th>streams</th>\n",
       "      <th>year</th>\n",
       "      <th>month</th>\n",
       "      <th>top10</th>\n",
       "    </tr>\n",
       "  </thead>\n",
       "  <tbody>\n",
       "    <tr>\n",
       "      <th>0</th>\n",
       "      <td>Chantaje (feat. Maluma)</td>\n",
       "      <td>1</td>\n",
       "      <td>2017-01-01</td>\n",
       "      <td>Shakira</td>\n",
       "      <td>Argentina</td>\n",
       "      <td>253019.0</td>\n",
       "      <td>2017</td>\n",
       "      <td>1</td>\n",
       "      <td>True</td>\n",
       "    </tr>\n",
       "    <tr>\n",
       "      <th>1</th>\n",
       "      <td>Vente Pa' Ca (feat. Maluma)</td>\n",
       "      <td>2</td>\n",
       "      <td>2017-01-01</td>\n",
       "      <td>Ricky Martin</td>\n",
       "      <td>Argentina</td>\n",
       "      <td>223988.0</td>\n",
       "      <td>2017</td>\n",
       "      <td>1</td>\n",
       "      <td>True</td>\n",
       "    </tr>\n",
       "    <tr>\n",
       "      <th>2</th>\n",
       "      <td>Reggaetón Lento (Bailemos)</td>\n",
       "      <td>3</td>\n",
       "      <td>2017-01-01</td>\n",
       "      <td>CNCO</td>\n",
       "      <td>Argentina</td>\n",
       "      <td>210943.0</td>\n",
       "      <td>2017</td>\n",
       "      <td>1</td>\n",
       "      <td>True</td>\n",
       "    </tr>\n",
       "    <tr>\n",
       "      <th>3</th>\n",
       "      <td>Safari</td>\n",
       "      <td>4</td>\n",
       "      <td>2017-01-01</td>\n",
       "      <td>J Balvin</td>\n",
       "      <td>Argentina</td>\n",
       "      <td>173865.0</td>\n",
       "      <td>2017</td>\n",
       "      <td>1</td>\n",
       "      <td>True</td>\n",
       "    </tr>\n",
       "    <tr>\n",
       "      <th>4</th>\n",
       "      <td>Safari</td>\n",
       "      <td>4</td>\n",
       "      <td>2017-01-01</td>\n",
       "      <td>Pharrell Williams</td>\n",
       "      <td>Argentina</td>\n",
       "      <td>173865.0</td>\n",
       "      <td>2017</td>\n",
       "      <td>1</td>\n",
       "      <td>True</td>\n",
       "    </tr>\n",
       "  </tbody>\n",
       "</table>\n",
       "</div>"
      ],
      "text/plain": [
       "                         title  rank       date             artist     region  \\\n",
       "0      Chantaje (feat. Maluma)     1 2017-01-01            Shakira  Argentina   \n",
       "1  Vente Pa' Ca (feat. Maluma)     2 2017-01-01       Ricky Martin  Argentina   \n",
       "2   Reggaetón Lento (Bailemos)     3 2017-01-01               CNCO  Argentina   \n",
       "3                       Safari     4 2017-01-01           J Balvin  Argentina   \n",
       "4                       Safari     4 2017-01-01  Pharrell Williams  Argentina   \n",
       "\n",
       "    streams  year  month  top10  \n",
       "0  253019.0  2017      1   True  \n",
       "1  223988.0  2017      1   True  \n",
       "2  210943.0  2017      1   True  \n",
       "3  173865.0  2017      1   True  \n",
       "4  173865.0  2017      1   True  "
      ]
     },
     "execution_count": 43,
     "metadata": {},
     "output_type": "execute_result"
    }
   ],
   "source": [
    "# to generate insights on indivual artist level, I have split the artist column due to collaborations\n",
    "\n",
    "df_artist['artist'] = df_artist['artist'].str.split(',')\n",
    "\n",
    "df_artist = df_artist.explode('artist', ignore_index=True)\n",
    "\n",
    "df_artist['artist'] = df_artist['artist'].str.strip()\n",
    "\n",
    "df_artist.head()"
   ]
  },
  {
   "cell_type": "code",
   "execution_count": 44,
   "metadata": {},
   "outputs": [],
   "source": [
    "def calc_kpis(df, agg):\n",
    "    df_temp = df.groupby(agg, as_index=False).agg(total_streams_mio=('streams', 'sum'),\n",
    "                                count_songs=('title', 'nunique'),\n",
    "                                days_in_charts=('rank', 'count'),\n",
    "                                days_in_top10=('top10', 'sum'),\n",
    "                                #top10_share=('top10', 'mean')\n",
    "                                )\n",
    "\n",
    "    df_temp['total_streams_mio'] = np.round(df_temp['total_streams_mio'] / 1000000, 2)\n",
    "    df_temp['avg_streams_per_song_mio'] = np.round (df_temp['total_streams_mio'] / df_temp['count_songs'], 1)\n",
    "    df_temp['avg_days_in_charts_per_song'] = np.round (df_temp['days_in_charts'] / (df_temp['count_songs'] * len(complete_regions)), 1)\n",
    "    #df_temp['top10_share'] = np.round(100 * df_temp['top10_share'], 2)\n",
    "    \n",
    "    df_temp.sort_values(by='total_streams_mio', inplace=True, ascending=False)\n",
    "\n",
    "    df_temp.reset_index(drop=True, inplace=True)\n",
    "\n",
    "    return df_temp"
   ]
  },
  {
   "cell_type": "code",
   "execution_count": 45,
   "metadata": {},
   "outputs": [],
   "source": [
    "def bar_plot(data, avg, kpi, dim):\n",
    "\n",
    "    kpi_str = kpi.replace('_', ' ').capitalize()\n",
    "    dim_str = dim.replace('_', ' ').capitalize()\n",
    "\n",
    "    plt.figure(figsize=(10,6))\n",
    "\n",
    "    sns.barplot(data=data, x=kpi, y=dim, palette='Blues_r')\n",
    "    plt.axvline(avg, lw=1, ls='--', c='r')\n",
    "\n",
    "    plt.title(f'Ranking of {kpi_str} by {dim_str}\\n',  fontsize=24, fontweight='bold')\n",
    "    plt.ylabel(f'{dim_str}\\n',  fontsize=12, fontweight='bold')\n",
    "    plt.xlabel(f'\\n{kpi_str}', fontsize=12, fontweight='bold')\n",
    "\n",
    "    plt.text(x=avg * 1.05, y=10, s=f'The avg is\\n{np.round(avg, 0)}', \n",
    "         fontsize=14, \n",
    "         fontweight='bold', \n",
    "         c='r')\n",
    "\n",
    "    plt.show()"
   ]
  },
  {
   "cell_type": "markdown",
   "metadata": {},
   "source": [
    "### most successful artists"
   ]
  },
  {
   "cell_type": "code",
   "execution_count": 46,
   "metadata": {},
   "outputs": [
    {
     "data": {
      "text/html": [
       "<div>\n",
       "<style scoped>\n",
       "    .dataframe tbody tr th:only-of-type {\n",
       "        vertical-align: middle;\n",
       "    }\n",
       "\n",
       "    .dataframe tbody tr th {\n",
       "        vertical-align: top;\n",
       "    }\n",
       "\n",
       "    .dataframe thead th {\n",
       "        text-align: right;\n",
       "    }\n",
       "</style>\n",
       "<table border=\"1\" class=\"dataframe\">\n",
       "  <thead>\n",
       "    <tr style=\"text-align: right;\">\n",
       "      <th></th>\n",
       "      <th>artist</th>\n",
       "      <th>total_streams_mio</th>\n",
       "      <th>count_songs</th>\n",
       "      <th>days_in_charts</th>\n",
       "      <th>days_in_top10</th>\n",
       "      <th>avg_streams_per_song_mio</th>\n",
       "      <th>avg_days_in_charts_per_song</th>\n",
       "    </tr>\n",
       "  </thead>\n",
       "  <tbody>\n",
       "    <tr>\n",
       "      <th>0</th>\n",
       "      <td>Bad Bunny</td>\n",
       "      <td>15523.01</td>\n",
       "      <td>154</td>\n",
       "      <td>307592</td>\n",
       "      <td>29915</td>\n",
       "      <td>100.8</td>\n",
       "      <td>49.9</td>\n",
       "    </tr>\n",
       "    <tr>\n",
       "      <th>1</th>\n",
       "      <td>Post Malone</td>\n",
       "      <td>13035.82</td>\n",
       "      <td>58</td>\n",
       "      <td>183994</td>\n",
       "      <td>14478</td>\n",
       "      <td>224.8</td>\n",
       "      <td>79.3</td>\n",
       "    </tr>\n",
       "    <tr>\n",
       "      <th>2</th>\n",
       "      <td>J Balvin</td>\n",
       "      <td>12801.30</td>\n",
       "      <td>151</td>\n",
       "      <td>255345</td>\n",
       "      <td>26990</td>\n",
       "      <td>84.8</td>\n",
       "      <td>42.3</td>\n",
       "    </tr>\n",
       "    <tr>\n",
       "      <th>3</th>\n",
       "      <td>Drake</td>\n",
       "      <td>10703.28</td>\n",
       "      <td>156</td>\n",
       "      <td>134342</td>\n",
       "      <td>9979</td>\n",
       "      <td>68.6</td>\n",
       "      <td>21.5</td>\n",
       "    </tr>\n",
       "    <tr>\n",
       "      <th>4</th>\n",
       "      <td>Ed Sheeran</td>\n",
       "      <td>10247.08</td>\n",
       "      <td>120</td>\n",
       "      <td>276268</td>\n",
       "      <td>21690</td>\n",
       "      <td>85.4</td>\n",
       "      <td>57.6</td>\n",
       "    </tr>\n",
       "  </tbody>\n",
       "</table>\n",
       "</div>"
      ],
      "text/plain": [
       "        artist  total_streams_mio  count_songs  days_in_charts  days_in_top10  \\\n",
       "0    Bad Bunny           15523.01          154          307592          29915   \n",
       "1  Post Malone           13035.82           58          183994          14478   \n",
       "2     J Balvin           12801.30          151          255345          26990   \n",
       "3        Drake           10703.28          156          134342           9979   \n",
       "4   Ed Sheeran           10247.08          120          276268          21690   \n",
       "\n",
       "   avg_streams_per_song_mio  avg_days_in_charts_per_song  \n",
       "0                     100.8                         49.9  \n",
       "1                     224.8                         79.3  \n",
       "2                      84.8                         42.3  \n",
       "3                      68.6                         21.5  \n",
       "4                      85.4                         57.6  "
      ]
     },
     "execution_count": 46,
     "metadata": {},
     "output_type": "execute_result"
    }
   ],
   "source": [
    "artist_performance_overall = calc_kpis(df_artist, 'artist')\n",
    "\n",
    "artist_performance_overall.head(5)"
   ]
  },
  {
   "cell_type": "markdown",
   "metadata": {},
   "source": [
    "Measured by total streamings, \"Bad Bunny\" is the most successful artist with more than 15.5 billion streams between 2017 and 2021.<br>\n",
    "Compared to the second artist \"Post Malone\" there some significant differences in their key figures. Post Malone has by far the lowest number of songs in the charts. On the other hand, he is leading in the avg streamings per song and the duration in the charts.<br> \n",
    "Also visible that the top 5 are dominated by male artists."
   ]
  },
  {
   "cell_type": "code",
   "execution_count": 47,
   "metadata": {},
   "outputs": [
    {
     "data": {
      "image/png": "[encoded data removed]",
      "text/plain": [
       "<Figure size 720x432 with 1 Axes>"
      ]
     },
     "metadata": {
      "needs_background": "light"
     },
     "output_type": "display_data"
    }
   ],
   "source": [
    "data = artist_performance_overall.head(20)\n",
    "avg = artist_performance_overall.head(20)['total_streams_mio'].mean()\n",
    "\n",
    "bar_plot(data, avg, 'total_streams_mio', 'artist')\n",
    "\n",
    "plt.show()"
   ]
  },
  {
   "cell_type": "code",
   "execution_count": 48,
   "metadata": {},
   "outputs": [
    {
     "data": {
      "text/plain": [
       "'Bad Bunny'"
      ]
     },
     "execution_count": 48,
     "metadata": {},
     "output_type": "execute_result"
    }
   ],
   "source": [
    "top_artist = artist_performance_overall['artist'].iloc[0]\n",
    "top_artist"
   ]
  },
  {
   "cell_type": "markdown",
   "metadata": {},
   "source": [
    "### most successful songs of best artist"
   ]
  },
  {
   "cell_type": "code",
   "execution_count": 49,
   "metadata": {},
   "outputs": [
    {
     "data": {
      "text/html": [
       "<div>\n",
       "<style scoped>\n",
       "    .dataframe tbody tr th:only-of-type {\n",
       "        vertical-align: middle;\n",
       "    }\n",
       "\n",
       "    .dataframe tbody tr th {\n",
       "        vertical-align: top;\n",
       "    }\n",
       "\n",
       "    .dataframe thead th {\n",
       "        text-align: right;\n",
       "    }\n",
       "</style>\n",
       "<table border=\"1\" class=\"dataframe\">\n",
       "  <thead>\n",
       "    <tr style=\"text-align: right;\">\n",
       "      <th></th>\n",
       "      <th>title</th>\n",
       "      <th>total_streams_mio</th>\n",
       "      <th>count_songs</th>\n",
       "      <th>days_in_charts</th>\n",
       "      <th>days_in_top10</th>\n",
       "      <th>avg_streams_per_song_mio</th>\n",
       "      <th>avg_days_in_charts_per_song</th>\n",
       "    </tr>\n",
       "  </thead>\n",
       "  <tbody>\n",
       "    <tr>\n",
       "      <th>0</th>\n",
       "      <td>DÁKITI</td>\n",
       "      <td>998.32</td>\n",
       "      <td>1</td>\n",
       "      <td>7097</td>\n",
       "      <td>2418</td>\n",
       "      <td>998.3</td>\n",
       "      <td>177.4</td>\n",
       "    </tr>\n",
       "    <tr>\n",
       "      <th>1</th>\n",
       "      <td>I Like It</td>\n",
       "      <td>798.26</td>\n",
       "      <td>1</td>\n",
       "      <td>13117</td>\n",
       "      <td>560</td>\n",
       "      <td>798.3</td>\n",
       "      <td>327.9</td>\n",
       "    </tr>\n",
       "    <tr>\n",
       "      <th>2</th>\n",
       "      <td>Callaita</td>\n",
       "      <td>645.51</td>\n",
       "      <td>1</td>\n",
       "      <td>8613</td>\n",
       "      <td>1721</td>\n",
       "      <td>645.5</td>\n",
       "      <td>215.3</td>\n",
       "    </tr>\n",
       "    <tr>\n",
       "      <th>3</th>\n",
       "      <td>MIA (feat. Drake)</td>\n",
       "      <td>617.11</td>\n",
       "      <td>1</td>\n",
       "      <td>9018</td>\n",
       "      <td>1578</td>\n",
       "      <td>617.1</td>\n",
       "      <td>225.4</td>\n",
       "    </tr>\n",
       "    <tr>\n",
       "      <th>4</th>\n",
       "      <td>No Me Conoce - Remix</td>\n",
       "      <td>597.00</td>\n",
       "      <td>1</td>\n",
       "      <td>8861</td>\n",
       "      <td>1707</td>\n",
       "      <td>597.0</td>\n",
       "      <td>221.5</td>\n",
       "    </tr>\n",
       "  </tbody>\n",
       "</table>\n",
       "</div>"
      ],
      "text/plain": [
       "                  title  total_streams_mio  count_songs  days_in_charts  \\\n",
       "0                DÁKITI             998.32            1            7097   \n",
       "1             I Like It             798.26            1           13117   \n",
       "2              Callaita             645.51            1            8613   \n",
       "3     MIA (feat. Drake)             617.11            1            9018   \n",
       "4  No Me Conoce - Remix             597.00            1            8861   \n",
       "\n",
       "   days_in_top10  avg_streams_per_song_mio  avg_days_in_charts_per_song  \n",
       "0           2418                     998.3                        177.4  \n",
       "1            560                     798.3                        327.9  \n",
       "2           1721                     645.5                        215.3  \n",
       "3           1578                     617.1                        225.4  \n",
       "4           1707                     597.0                        221.5  "
      ]
     },
     "execution_count": 49,
     "metadata": {},
     "output_type": "execute_result"
    }
   ],
   "source": [
    "top_artist_songs = df_artist[df_artist['artist'] == top_artist]\n",
    "top_artists_song_performance = calc_kpis(top_artist_songs, 'title')\n",
    "\n",
    "top_artists_song_performance.head()"
   ]
  },
  {
   "cell_type": "markdown",
   "metadata": {},
   "source": [
    "\"DAKITI\" is the most successful song from \"Bad Bunny\"."
   ]
  },
  {
   "cell_type": "code",
   "execution_count": 50,
   "metadata": {},
   "outputs": [
    {
     "data": {
      "image/png": "[encoded data removed]",
      "text/plain": [
       "<Figure size 720x432 with 1 Axes>"
      ]
     },
     "metadata": {
      "needs_background": "light"
     },
     "output_type": "display_data"
    }
   ],
   "source": [
    "data = top_artists_song_performance.head(20)\n",
    "avg = top_artists_song_performance.head(20)['total_streams_mio'].mean()\n",
    "\n",
    "bar_plot(data, avg, 'total_streams_mio', 'title')\n",
    "\n",
    "plt.show()"
   ]
  },
  {
   "cell_type": "markdown",
   "metadata": {},
   "source": [
    "### annual development of best artist"
   ]
  },
  {
   "cell_type": "code",
   "execution_count": 51,
   "metadata": {},
   "outputs": [
    {
     "data": {
      "image/png": "[encoded data removed]",
      "text/plain": [
       "<Figure size 576x288 with 1 Axes>"
      ]
     },
     "metadata": {
      "needs_background": "light"
     },
     "output_type": "display_data"
    }
   ],
   "source": [
    "plt.figure(figsize=(8,4))\n",
    "\n",
    "np.round (top_artist_songs.groupby('year')['streams'].sum() / 1000000000, 1).plot(kind='bar')\n",
    "\n",
    "plt.title(f'Annual streams from {top_artist}\\n',  fontsize=24, fontweight='bold')\n",
    "plt.ylabel('Billion streams\\n',  fontsize=12, fontweight='bold')\n",
    "plt.xlabel('\\nYear', fontsize=12, fontweight='bold')\n",
    "plt.xticks(rotation=0)\n",
    "\n",
    "plt.show()"
   ]
  },
  {
   "cell_type": "code",
   "execution_count": 52,
   "metadata": {},
   "outputs": [
    {
     "data": {
      "text/html": [
       "<div>\n",
       "<style scoped>\n",
       "    .dataframe tbody tr th:only-of-type {\n",
       "        vertical-align: middle;\n",
       "    }\n",
       "\n",
       "    .dataframe tbody tr th {\n",
       "        vertical-align: top;\n",
       "    }\n",
       "\n",
       "    .dataframe thead th {\n",
       "        text-align: right;\n",
       "    }\n",
       "</style>\n",
       "<table border=\"1\" class=\"dataframe\">\n",
       "  <thead>\n",
       "    <tr style=\"text-align: right;\">\n",
       "      <th></th>\n",
       "      <th>year</th>\n",
       "      <th>total_streams_mio</th>\n",
       "      <th>count_songs</th>\n",
       "      <th>days_in_charts</th>\n",
       "      <th>days_in_top10</th>\n",
       "      <th>avg_streams_per_song_mio</th>\n",
       "      <th>avg_days_in_charts_per_song</th>\n",
       "    </tr>\n",
       "  </thead>\n",
       "  <tbody>\n",
       "    <tr>\n",
       "      <th>4</th>\n",
       "      <td>2017</td>\n",
       "      <td>1120.83</td>\n",
       "      <td>39</td>\n",
       "      <td>46283</td>\n",
       "      <td>2757</td>\n",
       "      <td>28.7</td>\n",
       "      <td>29.7</td>\n",
       "    </tr>\n",
       "    <tr>\n",
       "      <th>3</th>\n",
       "      <td>2018</td>\n",
       "      <td>2719.59</td>\n",
       "      <td>64</td>\n",
       "      <td>62838</td>\n",
       "      <td>5331</td>\n",
       "      <td>42.5</td>\n",
       "      <td>24.5</td>\n",
       "    </tr>\n",
       "    <tr>\n",
       "      <th>2</th>\n",
       "      <td>2019</td>\n",
       "      <td>2889.83</td>\n",
       "      <td>55</td>\n",
       "      <td>49857</td>\n",
       "      <td>7670</td>\n",
       "      <td>52.5</td>\n",
       "      <td>22.7</td>\n",
       "    </tr>\n",
       "    <tr>\n",
       "      <th>0</th>\n",
       "      <td>2020</td>\n",
       "      <td>4984.89</td>\n",
       "      <td>72</td>\n",
       "      <td>79326</td>\n",
       "      <td>7176</td>\n",
       "      <td>69.2</td>\n",
       "      <td>27.5</td>\n",
       "    </tr>\n",
       "    <tr>\n",
       "      <th>1</th>\n",
       "      <td>2021</td>\n",
       "      <td>3807.86</td>\n",
       "      <td>51</td>\n",
       "      <td>69288</td>\n",
       "      <td>6981</td>\n",
       "      <td>74.7</td>\n",
       "      <td>34.0</td>\n",
       "    </tr>\n",
       "  </tbody>\n",
       "</table>\n",
       "</div>"
      ],
      "text/plain": [
       "   year  total_streams_mio  count_songs  days_in_charts  days_in_top10  \\\n",
       "4  2017            1120.83           39           46283           2757   \n",
       "3  2018            2719.59           64           62838           5331   \n",
       "2  2019            2889.83           55           49857           7670   \n",
       "0  2020            4984.89           72           79326           7176   \n",
       "1  2021            3807.86           51           69288           6981   \n",
       "\n",
       "   avg_streams_per_song_mio  avg_days_in_charts_per_song  \n",
       "4                      28.7                         29.7  \n",
       "3                      42.5                         24.5  \n",
       "2                      52.5                         22.7  \n",
       "0                      69.2                         27.5  \n",
       "1                      74.7                         34.0  "
      ]
     },
     "execution_count": 52,
     "metadata": {},
     "output_type": "execute_result"
    }
   ],
   "source": [
    "top_artists_year_performance = calc_kpis(top_artist_songs, 'year')\n",
    "\n",
    "top_artists_year_performance.sort_values('year')"
   ]
  },
  {
   "cell_type": "markdown",
   "metadata": {},
   "source": [
    "Bad Bunny's most succesful year was 2020 with almost 5 billion streams. He had 72 songs in the top 200 and achieved 69 million streams for every song."
   ]
  },
  {
   "cell_type": "markdown",
   "metadata": {},
   "source": [
    "### region performance of best artist"
   ]
  },
  {
   "cell_type": "code",
   "execution_count": 53,
   "metadata": {},
   "outputs": [
    {
     "data": {
      "text/html": [
       "<div>\n",
       "<style scoped>\n",
       "    .dataframe tbody tr th:only-of-type {\n",
       "        vertical-align: middle;\n",
       "    }\n",
       "\n",
       "    .dataframe tbody tr th {\n",
       "        vertical-align: top;\n",
       "    }\n",
       "\n",
       "    .dataframe thead th {\n",
       "        text-align: right;\n",
       "    }\n",
       "</style>\n",
       "<table border=\"1\" class=\"dataframe\">\n",
       "  <thead>\n",
       "    <tr style=\"text-align: right;\">\n",
       "      <th></th>\n",
       "      <th>region</th>\n",
       "      <th>artist</th>\n",
       "      <th>streams</th>\n",
       "      <th>artist_rank</th>\n",
       "    </tr>\n",
       "  </thead>\n",
       "  <tbody>\n",
       "    <tr>\n",
       "      <th>0</th>\n",
       "      <td>Argentina</td>\n",
       "      <td>#TocoParaVos</td>\n",
       "      <td>6.0</td>\n",
       "      <td>338</td>\n",
       "    </tr>\n",
       "    <tr>\n",
       "      <th>1</th>\n",
       "      <td>Argentina</td>\n",
       "      <td>0-600</td>\n",
       "      <td>0.3</td>\n",
       "      <td>395</td>\n",
       "    </tr>\n",
       "    <tr>\n",
       "      <th>2</th>\n",
       "      <td>Argentina</td>\n",
       "      <td>18 Kilates</td>\n",
       "      <td>0.1</td>\n",
       "      <td>397</td>\n",
       "    </tr>\n",
       "    <tr>\n",
       "      <th>3</th>\n",
       "      <td>Argentina</td>\n",
       "      <td>2 Chainz</td>\n",
       "      <td>0.0</td>\n",
       "      <td>398</td>\n",
       "    </tr>\n",
       "    <tr>\n",
       "      <th>4</th>\n",
       "      <td>Argentina</td>\n",
       "      <td>21 Savage</td>\n",
       "      <td>5.5</td>\n",
       "      <td>343</td>\n",
       "    </tr>\n",
       "  </tbody>\n",
       "</table>\n",
       "</div>"
      ],
      "text/plain": [
       "      region        artist  streams  artist_rank\n",
       "0  Argentina  #TocoParaVos      6.0          338\n",
       "1  Argentina         0-600      0.3          395\n",
       "2  Argentina    18 Kilates      0.1          397\n",
       "3  Argentina      2 Chainz      0.0          398\n",
       "4  Argentina     21 Savage      5.5          343"
      ]
     },
     "execution_count": 53,
     "metadata": {},
     "output_type": "execute_result"
    }
   ],
   "source": [
    "artists_region_performance = df_artist.groupby(['region', 'artist'], as_index=False)['streams'].sum()\n",
    "artists_region_performance['streams'] = np.round (artists_region_performance['streams'] / 1000000, 1)\n",
    "\n",
    "artists_region_performance['artist_rank'] = artists_region_performance.groupby(['region'])['streams'].rank(method='dense', ascending=False)\n",
    "artists_region_performance['artist_rank'] = artists_region_performance['artist_rank'].astype(np.int16)\n",
    "\n",
    "artists_region_performance.head()"
   ]
  },
  {
   "cell_type": "code",
   "execution_count": 54,
   "metadata": {},
   "outputs": [
    {
     "data": {
      "text/html": [
       "<div>\n",
       "<style scoped>\n",
       "    .dataframe tbody tr th:only-of-type {\n",
       "        vertical-align: middle;\n",
       "    }\n",
       "\n",
       "    .dataframe tbody tr th {\n",
       "        vertical-align: top;\n",
       "    }\n",
       "\n",
       "    .dataframe thead th {\n",
       "        text-align: right;\n",
       "    }\n",
       "</style>\n",
       "<table border=\"1\" class=\"dataframe\">\n",
       "  <thead>\n",
       "    <tr style=\"text-align: right;\">\n",
       "      <th></th>\n",
       "      <th>region</th>\n",
       "      <th>artist</th>\n",
       "      <th>streams</th>\n",
       "      <th>artist_rank</th>\n",
       "      <th>stream_share</th>\n",
       "      <th>stream_share_running</th>\n",
       "    </tr>\n",
       "  </thead>\n",
       "  <tbody>\n",
       "    <tr>\n",
       "      <th>34475</th>\n",
       "      <td>Mexico</td>\n",
       "      <td>Bad Bunny</td>\n",
       "      <td>4755.7</td>\n",
       "      <td>1</td>\n",
       "      <td>30.6</td>\n",
       "      <td>30.6</td>\n",
       "    </tr>\n",
       "    <tr>\n",
       "      <th>9913</th>\n",
       "      <td>Chile</td>\n",
       "      <td>Bad Bunny</td>\n",
       "      <td>2384.6</td>\n",
       "      <td>1</td>\n",
       "      <td>15.4</td>\n",
       "      <td>46.0</td>\n",
       "    </tr>\n",
       "    <tr>\n",
       "      <th>48512</th>\n",
       "      <td>Spain</td>\n",
       "      <td>Bad Bunny</td>\n",
       "      <td>1989.3</td>\n",
       "      <td>1</td>\n",
       "      <td>12.8</td>\n",
       "      <td>58.8</td>\n",
       "    </tr>\n",
       "    <tr>\n",
       "      <th>61012</th>\n",
       "      <td>United States</td>\n",
       "      <td>Bad Bunny</td>\n",
       "      <td>1871.6</td>\n",
       "      <td>15</td>\n",
       "      <td>12.1</td>\n",
       "      <td>70.9</td>\n",
       "    </tr>\n",
       "    <tr>\n",
       "      <th>106</th>\n",
       "      <td>Argentina</td>\n",
       "      <td>Bad Bunny</td>\n",
       "      <td>1322.8</td>\n",
       "      <td>1</td>\n",
       "      <td>8.5</td>\n",
       "      <td>79.4</td>\n",
       "    </tr>\n",
       "    <tr>\n",
       "      <th>41372</th>\n",
       "      <td>Peru</td>\n",
       "      <td>Bad Bunny</td>\n",
       "      <td>802.7</td>\n",
       "      <td>1</td>\n",
       "      <td>5.2</td>\n",
       "      <td>84.6</td>\n",
       "    </tr>\n",
       "    <tr>\n",
       "      <th>11200</th>\n",
       "      <td>Colombia</td>\n",
       "      <td>Bad Bunny</td>\n",
       "      <td>647.0</td>\n",
       "      <td>2</td>\n",
       "      <td>4.2</td>\n",
       "      <td>88.8</td>\n",
       "    </tr>\n",
       "    <tr>\n",
       "      <th>17015</th>\n",
       "      <td>Ecuador</td>\n",
       "      <td>Bad Bunny</td>\n",
       "      <td>335.2</td>\n",
       "      <td>1</td>\n",
       "      <td>2.2</td>\n",
       "      <td>91.0</td>\n",
       "    </tr>\n",
       "    <tr>\n",
       "      <th>24220</th>\n",
       "      <td>Guatemala</td>\n",
       "      <td>Bad Bunny</td>\n",
       "      <td>303.6</td>\n",
       "      <td>1</td>\n",
       "      <td>2.0</td>\n",
       "      <td>93.0</td>\n",
       "    </tr>\n",
       "    <tr>\n",
       "      <th>12272</th>\n",
       "      <td>Costa Rica</td>\n",
       "      <td>Bad Bunny</td>\n",
       "      <td>234.2</td>\n",
       "      <td>1</td>\n",
       "      <td>1.5</td>\n",
       "      <td>94.5</td>\n",
       "    </tr>\n",
       "    <tr>\n",
       "      <th>30128</th>\n",
       "      <td>Italy</td>\n",
       "      <td>Bad Bunny</td>\n",
       "      <td>165.8</td>\n",
       "      <td>46</td>\n",
       "      <td>1.1</td>\n",
       "      <td>95.6</td>\n",
       "    </tr>\n",
       "    <tr>\n",
       "      <th>62600</th>\n",
       "      <td>Uruguay</td>\n",
       "      <td>Bad Bunny</td>\n",
       "      <td>91.5</td>\n",
       "      <td>2</td>\n",
       "      <td>0.6</td>\n",
       "      <td>96.2</td>\n",
       "    </tr>\n",
       "    <tr>\n",
       "      <th>8384</th>\n",
       "      <td>Canada</td>\n",
       "      <td>Bad Bunny</td>\n",
       "      <td>88.9</td>\n",
       "      <td>64</td>\n",
       "      <td>0.6</td>\n",
       "      <td>96.8</td>\n",
       "    </tr>\n",
       "    <tr>\n",
       "      <th>20354</th>\n",
       "      <td>France</td>\n",
       "      <td>Bad Bunny</td>\n",
       "      <td>78.4</td>\n",
       "      <td>92</td>\n",
       "      <td>0.5</td>\n",
       "      <td>97.3</td>\n",
       "    </tr>\n",
       "    <tr>\n",
       "      <th>22123</th>\n",
       "      <td>Germany</td>\n",
       "      <td>Bad Bunny</td>\n",
       "      <td>76.6</td>\n",
       "      <td>159</td>\n",
       "      <td>0.5</td>\n",
       "      <td>97.8</td>\n",
       "    </tr>\n",
       "    <tr>\n",
       "      <th>59051</th>\n",
       "      <td>United Kingdom</td>\n",
       "      <td>Bad Bunny</td>\n",
       "      <td>76.1</td>\n",
       "      <td>146</td>\n",
       "      <td>0.5</td>\n",
       "      <td>98.3</td>\n",
       "    </tr>\n",
       "    <tr>\n",
       "      <th>35663</th>\n",
       "      <td>Netherlands</td>\n",
       "      <td>Bad Bunny</td>\n",
       "      <td>43.0</td>\n",
       "      <td>148</td>\n",
       "      <td>0.3</td>\n",
       "      <td>98.6</td>\n",
       "    </tr>\n",
       "    <tr>\n",
       "      <th>52717</th>\n",
       "      <td>Switzerland</td>\n",
       "      <td>Bad Bunny</td>\n",
       "      <td>36.0</td>\n",
       "      <td>17</td>\n",
       "      <td>0.2</td>\n",
       "      <td>98.8</td>\n",
       "    </tr>\n",
       "    <tr>\n",
       "      <th>45503</th>\n",
       "      <td>Portugal</td>\n",
       "      <td>Bad Bunny</td>\n",
       "      <td>33.5</td>\n",
       "      <td>17</td>\n",
       "      <td>0.2</td>\n",
       "      <td>99.0</td>\n",
       "    </tr>\n",
       "    <tr>\n",
       "      <th>1235</th>\n",
       "      <td>Australia</td>\n",
       "      <td>Bad Bunny</td>\n",
       "      <td>32.2</td>\n",
       "      <td>166</td>\n",
       "      <td>0.2</td>\n",
       "      <td>99.2</td>\n",
       "    </tr>\n",
       "  </tbody>\n",
       "</table>\n",
       "</div>"
      ],
      "text/plain": [
       "               region     artist  streams  artist_rank  stream_share  \\\n",
       "34475          Mexico  Bad Bunny   4755.7            1          30.6   \n",
       "9913            Chile  Bad Bunny   2384.6            1          15.4   \n",
       "48512           Spain  Bad Bunny   1989.3            1          12.8   \n",
       "61012   United States  Bad Bunny   1871.6           15          12.1   \n",
       "106         Argentina  Bad Bunny   1322.8            1           8.5   \n",
       "41372            Peru  Bad Bunny    802.7            1           5.2   \n",
       "11200        Colombia  Bad Bunny    647.0            2           4.2   \n",
       "17015         Ecuador  Bad Bunny    335.2            1           2.2   \n",
       "24220       Guatemala  Bad Bunny    303.6            1           2.0   \n",
       "12272      Costa Rica  Bad Bunny    234.2            1           1.5   \n",
       "30128           Italy  Bad Bunny    165.8           46           1.1   \n",
       "62600         Uruguay  Bad Bunny     91.5            2           0.6   \n",
       "8384           Canada  Bad Bunny     88.9           64           0.6   \n",
       "20354          France  Bad Bunny     78.4           92           0.5   \n",
       "22123         Germany  Bad Bunny     76.6          159           0.5   \n",
       "59051  United Kingdom  Bad Bunny     76.1          146           0.5   \n",
       "35663     Netherlands  Bad Bunny     43.0          148           0.3   \n",
       "52717     Switzerland  Bad Bunny     36.0           17           0.2   \n",
       "45503        Portugal  Bad Bunny     33.5           17           0.2   \n",
       "1235        Australia  Bad Bunny     32.2          166           0.2   \n",
       "\n",
       "       stream_share_running  \n",
       "34475                  30.6  \n",
       "9913                   46.0  \n",
       "48512                  58.8  \n",
       "61012                  70.9  \n",
       "106                    79.4  \n",
       "41372                  84.6  \n",
       "11200                  88.8  \n",
       "17015                  91.0  \n",
       "24220                  93.0  \n",
       "12272                  94.5  \n",
       "30128                  95.6  \n",
       "62600                  96.2  \n",
       "8384                   96.8  \n",
       "20354                  97.3  \n",
       "22123                  97.8  \n",
       "59051                  98.3  \n",
       "35663                  98.6  \n",
       "52717                  98.8  \n",
       "45503                  99.0  \n",
       "1235                   99.2  "
      ]
     },
     "execution_count": 54,
     "metadata": {},
     "output_type": "execute_result"
    }
   ],
   "source": [
    "top_artist_region_performance = artists_region_performance[artists_region_performance['artist'] == top_artist].sort_values(by='streams', ascending=False)\n",
    "top_artist_region_performance['stream_share'] = np.round (100 * top_artist_region_performance['streams'] / top_artist_region_performance['streams'].sum(), 1)\n",
    "top_artist_region_performance['stream_share_running'] = top_artist_region_performance['stream_share'].cumsum()\n",
    "\n",
    "top_artist_region_performance.head(20)"
   ]
  },
  {
   "cell_type": "markdown",
   "metadata": {},
   "source": [
    "\"Bad Bunny\" generates most of his streams in America specially South America (~95% up to Costa Rica). Mexico is the largest market  covering ~30% of his total streams. The artist rank shows that he is the most streamed artist in South America except Colombia."
   ]
  },
  {
   "cell_type": "markdown",
   "metadata": {},
   "source": [
    "## song analysis"
   ]
  },
  {
   "cell_type": "markdown",
   "metadata": {},
   "source": [
    "### most successful song"
   ]
  },
  {
   "cell_type": "markdown",
   "metadata": {},
   "source": [
    "Lets figure out if Bad Bunny's most streamed song \"DAKITI\" is also the most succesful overall"
   ]
  },
  {
   "cell_type": "code",
   "execution_count": 55,
   "metadata": {},
   "outputs": [
    {
     "data": {
      "text/plain": [
       "'DÁKITI'"
      ]
     },
     "execution_count": 55,
     "metadata": {},
     "output_type": "execute_result"
    }
   ],
   "source": [
    "top_artist_best_song = top_artists_song_performance['title'][0]\n",
    "top_artist_best_song"
   ]
  },
  {
   "cell_type": "code",
   "execution_count": 56,
   "metadata": {},
   "outputs": [
    {
     "data": {
      "text/html": [
       "<div>\n",
       "<style scoped>\n",
       "    .dataframe tbody tr th:only-of-type {\n",
       "        vertical-align: middle;\n",
       "    }\n",
       "\n",
       "    .dataframe tbody tr th {\n",
       "        vertical-align: top;\n",
       "    }\n",
       "\n",
       "    .dataframe thead th {\n",
       "        text-align: right;\n",
       "    }\n",
       "</style>\n",
       "<table border=\"1\" class=\"dataframe\">\n",
       "  <thead>\n",
       "    <tr style=\"text-align: right;\">\n",
       "      <th></th>\n",
       "      <th>title</th>\n",
       "      <th>total_streams_mio</th>\n",
       "      <th>count_songs</th>\n",
       "      <th>days_in_charts</th>\n",
       "      <th>days_in_top10</th>\n",
       "      <th>avg_streams_per_song_mio</th>\n",
       "      <th>avg_days_in_charts_per_song</th>\n",
       "    </tr>\n",
       "  </thead>\n",
       "  <tbody>\n",
       "    <tr>\n",
       "      <th>0</th>\n",
       "      <td>Blinding Lights</td>\n",
       "      <td>2380.64</td>\n",
       "      <td>1</td>\n",
       "      <td>27679</td>\n",
       "      <td>5651</td>\n",
       "      <td>2380.6</td>\n",
       "      <td>692.0</td>\n",
       "    </tr>\n",
       "    <tr>\n",
       "      <th>1</th>\n",
       "      <td>Shape of You</td>\n",
       "      <td>2247.41</td>\n",
       "      <td>1</td>\n",
       "      <td>45618</td>\n",
       "      <td>7912</td>\n",
       "      <td>2247.4</td>\n",
       "      <td>1140.4</td>\n",
       "    </tr>\n",
       "    <tr>\n",
       "      <th>2</th>\n",
       "      <td>Dance Monkey</td>\n",
       "      <td>2070.16</td>\n",
       "      <td>1</td>\n",
       "      <td>27309</td>\n",
       "      <td>5936</td>\n",
       "      <td>2070.2</td>\n",
       "      <td>682.7</td>\n",
       "    </tr>\n",
       "    <tr>\n",
       "      <th>3</th>\n",
       "      <td>Someone You Loved</td>\n",
       "      <td>1794.87</td>\n",
       "      <td>1</td>\n",
       "      <td>31609</td>\n",
       "      <td>3106</td>\n",
       "      <td>1794.9</td>\n",
       "      <td>790.2</td>\n",
       "    </tr>\n",
       "    <tr>\n",
       "      <th>4</th>\n",
       "      <td>Sunflower - Spider-Man: Into the Spider-Verse</td>\n",
       "      <td>1655.17</td>\n",
       "      <td>1</td>\n",
       "      <td>23193</td>\n",
       "      <td>2048</td>\n",
       "      <td>1655.2</td>\n",
       "      <td>579.8</td>\n",
       "    </tr>\n",
       "    <tr>\n",
       "      <th>5</th>\n",
       "      <td>bad guy</td>\n",
       "      <td>1498.95</td>\n",
       "      <td>1</td>\n",
       "      <td>24144</td>\n",
       "      <td>2859</td>\n",
       "      <td>1499.0</td>\n",
       "      <td>603.6</td>\n",
       "    </tr>\n",
       "    <tr>\n",
       "      <th>6</th>\n",
       "      <td>Señorita</td>\n",
       "      <td>1486.59</td>\n",
       "      <td>1</td>\n",
       "      <td>22728</td>\n",
       "      <td>4004</td>\n",
       "      <td>1486.6</td>\n",
       "      <td>568.2</td>\n",
       "    </tr>\n",
       "    <tr>\n",
       "      <th>7</th>\n",
       "      <td>Don't Start Now</td>\n",
       "      <td>1471.26</td>\n",
       "      <td>1</td>\n",
       "      <td>24164</td>\n",
       "      <td>2466</td>\n",
       "      <td>1471.3</td>\n",
       "      <td>604.1</td>\n",
       "    </tr>\n",
       "    <tr>\n",
       "      <th>8</th>\n",
       "      <td>Lucid Dreams</td>\n",
       "      <td>1419.87</td>\n",
       "      <td>1</td>\n",
       "      <td>21935</td>\n",
       "      <td>758</td>\n",
       "      <td>1419.9</td>\n",
       "      <td>548.4</td>\n",
       "    </tr>\n",
       "    <tr>\n",
       "      <th>9</th>\n",
       "      <td>Happier</td>\n",
       "      <td>1366.37</td>\n",
       "      <td>1</td>\n",
       "      <td>34256</td>\n",
       "      <td>1674</td>\n",
       "      <td>1366.4</td>\n",
       "      <td>856.4</td>\n",
       "    </tr>\n",
       "    <tr>\n",
       "      <th>10</th>\n",
       "      <td>Watermelon Sugar</td>\n",
       "      <td>1300.92</td>\n",
       "      <td>1</td>\n",
       "      <td>22672</td>\n",
       "      <td>1306</td>\n",
       "      <td>1300.9</td>\n",
       "      <td>566.8</td>\n",
       "    </tr>\n",
       "    <tr>\n",
       "      <th>11</th>\n",
       "      <td>Circles</td>\n",
       "      <td>1282.21</td>\n",
       "      <td>1</td>\n",
       "      <td>18287</td>\n",
       "      <td>1979</td>\n",
       "      <td>1282.2</td>\n",
       "      <td>457.2</td>\n",
       "    </tr>\n",
       "    <tr>\n",
       "      <th>12</th>\n",
       "      <td>God's Plan</td>\n",
       "      <td>1242.74</td>\n",
       "      <td>1</td>\n",
       "      <td>14915</td>\n",
       "      <td>2525</td>\n",
       "      <td>1242.7</td>\n",
       "      <td>372.9</td>\n",
       "    </tr>\n",
       "    <tr>\n",
       "      <th>13</th>\n",
       "      <td>Shallow</td>\n",
       "      <td>1185.01</td>\n",
       "      <td>1</td>\n",
       "      <td>29848</td>\n",
       "      <td>2141</td>\n",
       "      <td>1185.0</td>\n",
       "      <td>746.2</td>\n",
       "    </tr>\n",
       "    <tr>\n",
       "      <th>14</th>\n",
       "      <td>SAD!</td>\n",
       "      <td>1163.04</td>\n",
       "      <td>1</td>\n",
       "      <td>17844</td>\n",
       "      <td>881</td>\n",
       "      <td>1163.0</td>\n",
       "      <td>446.1</td>\n",
       "    </tr>\n",
       "    <tr>\n",
       "      <th>15</th>\n",
       "      <td>Roses - Imanbek Remix</td>\n",
       "      <td>1161.86</td>\n",
       "      <td>1</td>\n",
       "      <td>18276</td>\n",
       "      <td>2549</td>\n",
       "      <td>1161.9</td>\n",
       "      <td>456.9</td>\n",
       "    </tr>\n",
       "    <tr>\n",
       "      <th>16</th>\n",
       "      <td>Believer</td>\n",
       "      <td>1133.12</td>\n",
       "      <td>1</td>\n",
       "      <td>37045</td>\n",
       "      <td>531</td>\n",
       "      <td>1133.1</td>\n",
       "      <td>926.1</td>\n",
       "    </tr>\n",
       "    <tr>\n",
       "      <th>17</th>\n",
       "      <td>Perfect</td>\n",
       "      <td>1130.05</td>\n",
       "      <td>1</td>\n",
       "      <td>38391</td>\n",
       "      <td>1570</td>\n",
       "      <td>1130.0</td>\n",
       "      <td>959.8</td>\n",
       "    </tr>\n",
       "    <tr>\n",
       "      <th>18</th>\n",
       "      <td>SICKO MODE</td>\n",
       "      <td>1064.46</td>\n",
       "      <td>1</td>\n",
       "      <td>15992</td>\n",
       "      <td>611</td>\n",
       "      <td>1064.5</td>\n",
       "      <td>399.8</td>\n",
       "    </tr>\n",
       "    <tr>\n",
       "      <th>19</th>\n",
       "      <td>The Box</td>\n",
       "      <td>1055.37</td>\n",
       "      <td>1</td>\n",
       "      <td>11783</td>\n",
       "      <td>1772</td>\n",
       "      <td>1055.4</td>\n",
       "      <td>294.6</td>\n",
       "    </tr>\n",
       "  </tbody>\n",
       "</table>\n",
       "</div>"
      ],
      "text/plain": [
       "                                            title  total_streams_mio  \\\n",
       "0                                 Blinding Lights            2380.64   \n",
       "1                                    Shape of You            2247.41   \n",
       "2                                    Dance Monkey            2070.16   \n",
       "3                               Someone You Loved            1794.87   \n",
       "4   Sunflower - Spider-Man: Into the Spider-Verse            1655.17   \n",
       "5                                         bad guy            1498.95   \n",
       "6                                        Señorita            1486.59   \n",
       "7                                 Don't Start Now            1471.26   \n",
       "8                                    Lucid Dreams            1419.87   \n",
       "9                                         Happier            1366.37   \n",
       "10                               Watermelon Sugar            1300.92   \n",
       "11                                        Circles            1282.21   \n",
       "12                                     God's Plan            1242.74   \n",
       "13                                        Shallow            1185.01   \n",
       "14                                           SAD!            1163.04   \n",
       "15                          Roses - Imanbek Remix            1161.86   \n",
       "16                                       Believer            1133.12   \n",
       "17                                        Perfect            1130.05   \n",
       "18                                     SICKO MODE            1064.46   \n",
       "19                                        The Box            1055.37   \n",
       "\n",
       "    count_songs  days_in_charts  days_in_top10  avg_streams_per_song_mio  \\\n",
       "0             1           27679           5651                    2380.6   \n",
       "1             1           45618           7912                    2247.4   \n",
       "2             1           27309           5936                    2070.2   \n",
       "3             1           31609           3106                    1794.9   \n",
       "4             1           23193           2048                    1655.2   \n",
       "5             1           24144           2859                    1499.0   \n",
       "6             1           22728           4004                    1486.6   \n",
       "7             1           24164           2466                    1471.3   \n",
       "8             1           21935            758                    1419.9   \n",
       "9             1           34256           1674                    1366.4   \n",
       "10            1           22672           1306                    1300.9   \n",
       "11            1           18287           1979                    1282.2   \n",
       "12            1           14915           2525                    1242.7   \n",
       "13            1           29848           2141                    1185.0   \n",
       "14            1           17844            881                    1163.0   \n",
       "15            1           18276           2549                    1161.9   \n",
       "16            1           37045            531                    1133.1   \n",
       "17            1           38391           1570                    1130.0   \n",
       "18            1           15992            611                    1064.5   \n",
       "19            1           11783           1772                    1055.4   \n",
       "\n",
       "    avg_days_in_charts_per_song  \n",
       "0                         692.0  \n",
       "1                        1140.4  \n",
       "2                         682.7  \n",
       "3                         790.2  \n",
       "4                         579.8  \n",
       "5                         603.6  \n",
       "6                         568.2  \n",
       "7                         604.1  \n",
       "8                         548.4  \n",
       "9                         856.4  \n",
       "10                        566.8  \n",
       "11                        457.2  \n",
       "12                        372.9  \n",
       "13                        746.2  \n",
       "14                        446.1  \n",
       "15                        456.9  \n",
       "16                        926.1  \n",
       "17                        959.8  \n",
       "18                        399.8  \n",
       "19                        294.6  "
      ]
     },
     "execution_count": 56,
     "metadata": {},
     "output_type": "execute_result"
    }
   ],
   "source": [
    "song_performance_overall = calc_kpis(df_songs, 'title')\n",
    "\n",
    "top20_songs = song_performance_overall.head(20)\n",
    "top20_songs"
   ]
  },
  {
   "cell_type": "markdown",
   "metadata": {},
   "source": [
    "The most streamed song globally is \"Blinding Lights\" by the Weeknd with 2.38 billion streams. \"DAKITI\" does not belong to the top 20 most streamed songs."
   ]
  },
  {
   "cell_type": "code",
   "execution_count": 57,
   "metadata": {},
   "outputs": [
    {
     "data": {
      "text/html": [
       "<div>\n",
       "<style scoped>\n",
       "    .dataframe tbody tr th:only-of-type {\n",
       "        vertical-align: middle;\n",
       "    }\n",
       "\n",
       "    .dataframe tbody tr th {\n",
       "        vertical-align: top;\n",
       "    }\n",
       "\n",
       "    .dataframe thead th {\n",
       "        text-align: right;\n",
       "    }\n",
       "</style>\n",
       "<table border=\"1\" class=\"dataframe\">\n",
       "  <thead>\n",
       "    <tr style=\"text-align: right;\">\n",
       "      <th></th>\n",
       "      <th>title</th>\n",
       "      <th>total_streams_mio</th>\n",
       "      <th>count_songs</th>\n",
       "      <th>days_in_charts</th>\n",
       "      <th>days_in_top10</th>\n",
       "      <th>avg_streams_per_song_mio</th>\n",
       "      <th>avg_days_in_charts_per_song</th>\n",
       "    </tr>\n",
       "  </thead>\n",
       "  <tbody>\n",
       "    <tr>\n",
       "      <th>29</th>\n",
       "      <td>DÁKITI</td>\n",
       "      <td>998.32</td>\n",
       "      <td>1</td>\n",
       "      <td>7097</td>\n",
       "      <td>2418</td>\n",
       "      <td>998.3</td>\n",
       "      <td>177.4</td>\n",
       "    </tr>\n",
       "  </tbody>\n",
       "</table>\n",
       "</div>"
      ],
      "text/plain": [
       "     title  total_streams_mio  count_songs  days_in_charts  days_in_top10  \\\n",
       "29  DÁKITI             998.32            1            7097           2418   \n",
       "\n",
       "    avg_streams_per_song_mio  avg_days_in_charts_per_song  \n",
       "29                     998.3                        177.4  "
      ]
     },
     "execution_count": 57,
     "metadata": {},
     "output_type": "execute_result"
    }
   ],
   "source": [
    "song_performance_overall[song_performance_overall['title'] == top_artist_best_song]"
   ]
  },
  {
   "cell_type": "markdown",
   "metadata": {},
   "source": [
    "\"DAKITI\" is on the 29th rank."
   ]
  },
  {
   "cell_type": "code",
   "execution_count": 58,
   "metadata": {},
   "outputs": [
    {
     "data": {
      "text/html": [
       "<div>\n",
       "<style scoped>\n",
       "    .dataframe tbody tr th:only-of-type {\n",
       "        vertical-align: middle;\n",
       "    }\n",
       "\n",
       "    .dataframe tbody tr th {\n",
       "        vertical-align: top;\n",
       "    }\n",
       "\n",
       "    .dataframe thead th {\n",
       "        text-align: right;\n",
       "    }\n",
       "</style>\n",
       "<table border=\"1\" class=\"dataframe\">\n",
       "  <thead>\n",
       "    <tr style=\"text-align: right;\">\n",
       "      <th></th>\n",
       "      <th>artist</th>\n",
       "      <th>total_streams_mio</th>\n",
       "      <th>count_songs</th>\n",
       "      <th>days_in_charts</th>\n",
       "      <th>days_in_top10</th>\n",
       "      <th>avg_streams_per_song_mio</th>\n",
       "      <th>avg_days_in_charts_per_song</th>\n",
       "    </tr>\n",
       "  </thead>\n",
       "  <tbody>\n",
       "    <tr>\n",
       "      <th>10</th>\n",
       "      <td>The Weeknd</td>\n",
       "      <td>6792.79</td>\n",
       "      <td>70</td>\n",
       "      <td>112041</td>\n",
       "      <td>9563</td>\n",
       "      <td>97.0</td>\n",
       "      <td>40.0</td>\n",
       "    </tr>\n",
       "  </tbody>\n",
       "</table>\n",
       "</div>"
      ],
      "text/plain": [
       "        artist  total_streams_mio  count_songs  days_in_charts  days_in_top10  \\\n",
       "10  The Weeknd            6792.79           70          112041           9563   \n",
       "\n",
       "    avg_streams_per_song_mio  avg_days_in_charts_per_song  \n",
       "10                      97.0                         40.0  "
      ]
     },
     "execution_count": 58,
     "metadata": {},
     "output_type": "execute_result"
    }
   ],
   "source": [
    "artist_performance_overall[artist_performance_overall['artist'] == 'The Weeknd']"
   ]
  },
  {
   "cell_type": "markdown",
   "metadata": {},
   "source": [
    "\"The Weeknd\" is the 10th most streamed artist with 6.8 billion streams"
   ]
  },
  {
   "cell_type": "code",
   "execution_count": 59,
   "metadata": {},
   "outputs": [
    {
     "data": {
      "image/png": "[encoded data removed]",
      "text/plain": [
       "<Figure size 720x432 with 1 Axes>"
      ]
     },
     "metadata": {
      "needs_background": "light"
     },
     "output_type": "display_data"
    }
   ],
   "source": [
    "data = top20_songs.sort_values(by='total_streams_mio', ascending=False)\n",
    "avg = top20_songs['total_streams_mio'].mean()\n",
    "\n",
    "bar_plot(data, avg, 'total_streams_mio', 'title')"
   ]
  },
  {
   "cell_type": "code",
   "execution_count": 60,
   "metadata": {},
   "outputs": [
    {
     "data": {
      "text/plain": [
       "'Blinding Lights'"
      ]
     },
     "execution_count": 60,
     "metadata": {},
     "output_type": "execute_result"
    }
   ],
   "source": [
    "best_song = top20_songs['title'][0]\n",
    "best_song"
   ]
  },
  {
   "cell_type": "markdown",
   "metadata": {},
   "source": [
    "### avg rank by region of best song"
   ]
  },
  {
   "cell_type": "code",
   "execution_count": 61,
   "metadata": {},
   "outputs": [
    {
     "data": {
      "image/png": "[encoded data removed]",
      "text/plain": [
       "<Figure size 720x432 with 1 Axes>"
      ]
     },
     "metadata": {
      "needs_background": "light"
     },
     "output_type": "display_data"
    }
   ],
   "source": [
    "best_song_region = df_artist[df_artist['title'] == best_song].groupby('region')['rank'].mean().sort_values()\n",
    "\n",
    "plt.figure(figsize=(10,6))\n",
    "\n",
    "best_song_region.plot(kind='bar')\n",
    "plt.title(f'Avg rank of {best_song} by region\\n', fontsize=24, fontweight='bold')\n",
    "\n",
    "plt.show()"
   ]
  },
  {
   "cell_type": "code",
   "execution_count": 62,
   "metadata": {},
   "outputs": [
    {
     "data": {
      "text/plain": [
       "'Czech Republic'"
      ]
     },
     "execution_count": 62,
     "metadata": {},
     "output_type": "execute_result"
    }
   ],
   "source": [
    "best_song_country = best_song_region.index[0]\n",
    "best_song_country"
   ]
  },
  {
   "cell_type": "code",
   "execution_count": 63,
   "metadata": {},
   "outputs": [
    {
     "data": {
      "text/plain": [
       "'Blinding Lights is performing best in Czech Republic with an avg rank of 13.9.'"
      ]
     },
     "execution_count": 63,
     "metadata": {},
     "output_type": "execute_result"
    }
   ],
   "source": [
    "f'{best_song} is performing best in {best_song_country} with an avg rank of {np.round(best_song_region[0], 1)}.'"
   ]
  },
  {
   "cell_type": "code",
   "execution_count": 64,
   "metadata": {},
   "outputs": [
    {
     "data": {
      "image/png": "[encoded data removed]",
      "text/plain": [
       "<Figure size 864x432 with 1 Axes>"
      ]
     },
     "metadata": {
      "needs_background": "light"
     },
     "output_type": "display_data"
    }
   ],
   "source": [
    "countries = [best_song_country, 'United States']\n",
    "\n",
    "data = df_songs[(df_songs['title'] == best_song) & (df_songs['region'].isin(countries))]\n",
    "\n",
    "plt.figure(figsize=(12,6))\n",
    "\n",
    "sns.lineplot(data=data, x='date', y='rank', hue='region', palette=['#05299E', '#F26CA7'])\n",
    "\n",
    "plt.title(f'Rank development of {best_song}\\n',  fontsize=24, fontweight='bold')\n",
    "plt.ylabel('Rank\\n',  fontsize=12, fontweight='bold')\n",
    "plt.xlabel(f'\\nDate', fontsize=12, fontweight='bold')\n",
    "\n",
    "plt.gca().invert_yaxis()\n",
    "\n",
    "plt.show()"
   ]
  },
  {
   "cell_type": "code",
   "execution_count": 65,
   "metadata": {},
   "outputs": [
    {
     "data": {
      "text/plain": [
       "732"
      ]
     },
     "execution_count": 65,
     "metadata": {},
     "output_type": "execute_result"
    }
   ],
   "source": [
    "# duration Blinding Lights stayed in the charts in Czech Republic (in days) \n",
    "\n",
    "data[data['region'] == best_song_country]['date'].nunique()"
   ]
  },
  {
   "cell_type": "code",
   "execution_count": 66,
   "metadata": {},
   "outputs": [
    {
     "name": "stdout",
     "output_type": "stream",
     "text": [
      "The ranking timeseries of Blinding Lights confirms the oustanding avg rank in Czech Republic.\n",
      "The development shows most of the time the ranking in Czech Republic is above United States.\n"
     ]
    }
   ],
   "source": [
    "print(f'The ranking timeseries of {best_song} confirms the oustanding avg rank in {countries[0]}.\\nThe development shows most of the time the ranking in {countries[0]} is above {countries[1]}.') "
   ]
  },
  {
   "cell_type": "markdown",
   "metadata": {},
   "source": [
    "# Key insights"
   ]
  },
  {
   "cell_type": "markdown",
   "metadata": {},
   "source": [
    "***Overall / Regions***\n",
    "- Spotify's streaming volume is growing but slower year over year and 2021 is the first decline\n",
    "- by far biggest market (market share by streaming volume) are the USA. But their share is decreasing, whereas Brazil and Mexico are growing"
   ]
  },
  {
   "cell_type": "markdown",
   "metadata": {},
   "source": [
    "***Artist***\n",
    "- The most streamed artist globally is \"Bad Bunny\" with 15,5 billion streams\n",
    "- His most successful song is \"DAKITI\"\n",
    "- Although \"Bad Bunny\" is the most streamed artist, he generates ~95% of his streams in America (North + South)\n",
    "- 2020 was the most successful year for \"Bad Bunny\""
   ]
  },
  {
   "cell_type": "markdown",
   "metadata": {},
   "source": [
    "***Song***\n",
    "- The most streamed song globally is \"Blinding Lights\" by \"The Weeknd\"\n",
    "- \"DAKITI\" achieves only the 29th place in global song ranking\n",
    "- \"Blinding Lights\" achieves the best avg ranking in Czech Republic with ~14 and stayed for 732 days in the charts"
   ]
  },
  {
   "cell_type": "markdown",
   "metadata": {},
   "source": [
    "# Data export for visualizations"
   ]
  },
  {
   "cell_type": "code",
   "execution_count": 67,
   "metadata": {},
   "outputs": [],
   "source": [
    "#export_countries = df_clean.groupby('region')['streams'].sum().sort_values(ascending=False).iloc[1:4].index"
   ]
  },
  {
   "cell_type": "code",
   "execution_count": 68,
   "metadata": {},
   "outputs": [],
   "source": [
    "#df_clean[df_clean['region'].isin(export_countries)].to_csv('spotify_chart_data.csv')"
   ]
  },
  {
   "cell_type": "markdown",
   "metadata": {},
   "source": [
    "# Statistical tests"
   ]
  },
  {
   "cell_type": "code",
   "execution_count": 69,
   "metadata": {},
   "outputs": [],
   "source": [
    "from scipy import stats\n",
    "from statsmodels.stats import weightstats"
   ]
  },
  {
   "cell_type": "code",
   "execution_count": 70,
   "metadata": {},
   "outputs": [
    {
     "data": {
      "text/html": [
       "<div>\n",
       "<style scoped>\n",
       "    .dataframe tbody tr th:only-of-type {\n",
       "        vertical-align: middle;\n",
       "    }\n",
       "\n",
       "    .dataframe tbody tr th {\n",
       "        vertical-align: top;\n",
       "    }\n",
       "\n",
       "    .dataframe thead th {\n",
       "        text-align: right;\n",
       "    }\n",
       "</style>\n",
       "<table border=\"1\" class=\"dataframe\">\n",
       "  <thead>\n",
       "    <tr style=\"text-align: right;\">\n",
       "      <th></th>\n",
       "      <th>artist</th>\n",
       "      <th>total_streams_mio</th>\n",
       "      <th>count_songs</th>\n",
       "      <th>days_in_charts</th>\n",
       "      <th>days_in_top10</th>\n",
       "      <th>avg_streams_per_song_mio</th>\n",
       "      <th>avg_days_in_charts_per_song</th>\n",
       "    </tr>\n",
       "  </thead>\n",
       "  <tbody>\n",
       "    <tr>\n",
       "      <th>0</th>\n",
       "      <td>Bad Bunny</td>\n",
       "      <td>15523.01</td>\n",
       "      <td>154</td>\n",
       "      <td>307592</td>\n",
       "      <td>29915</td>\n",
       "      <td>100.8</td>\n",
       "      <td>49.9</td>\n",
       "    </tr>\n",
       "    <tr>\n",
       "      <th>1</th>\n",
       "      <td>Post Malone</td>\n",
       "      <td>13035.82</td>\n",
       "      <td>58</td>\n",
       "      <td>183994</td>\n",
       "      <td>14478</td>\n",
       "      <td>224.8</td>\n",
       "      <td>79.3</td>\n",
       "    </tr>\n",
       "    <tr>\n",
       "      <th>2</th>\n",
       "      <td>J Balvin</td>\n",
       "      <td>12801.30</td>\n",
       "      <td>151</td>\n",
       "      <td>255345</td>\n",
       "      <td>26990</td>\n",
       "      <td>84.8</td>\n",
       "      <td>42.3</td>\n",
       "    </tr>\n",
       "    <tr>\n",
       "      <th>3</th>\n",
       "      <td>Drake</td>\n",
       "      <td>10703.28</td>\n",
       "      <td>156</td>\n",
       "      <td>134342</td>\n",
       "      <td>9979</td>\n",
       "      <td>68.6</td>\n",
       "      <td>21.5</td>\n",
       "    </tr>\n",
       "    <tr>\n",
       "      <th>4</th>\n",
       "      <td>Ed Sheeran</td>\n",
       "      <td>10247.08</td>\n",
       "      <td>120</td>\n",
       "      <td>276268</td>\n",
       "      <td>21690</td>\n",
       "      <td>85.4</td>\n",
       "      <td>57.6</td>\n",
       "    </tr>\n",
       "  </tbody>\n",
       "</table>\n",
       "</div>"
      ],
      "text/plain": [
       "        artist  total_streams_mio  count_songs  days_in_charts  days_in_top10  \\\n",
       "0    Bad Bunny           15523.01          154          307592          29915   \n",
       "1  Post Malone           13035.82           58          183994          14478   \n",
       "2     J Balvin           12801.30          151          255345          26990   \n",
       "3        Drake           10703.28          156          134342           9979   \n",
       "4   Ed Sheeran           10247.08          120          276268          21690   \n",
       "\n",
       "   avg_streams_per_song_mio  avg_days_in_charts_per_song  \n",
       "0                     100.8                         49.9  \n",
       "1                     224.8                         79.3  \n",
       "2                      84.8                         42.3  \n",
       "3                      68.6                         21.5  \n",
       "4                      85.4                         57.6  "
      ]
     },
     "execution_count": 70,
     "metadata": {},
     "output_type": "execute_result"
    }
   ],
   "source": [
    "artist_performance_overall.head()"
   ]
  },
  {
   "cell_type": "code",
   "execution_count": 71,
   "metadata": {},
   "outputs": [
    {
     "data": {
      "text/html": [
       "<div>\n",
       "<style scoped>\n",
       "    .dataframe tbody tr th:only-of-type {\n",
       "        vertical-align: middle;\n",
       "    }\n",
       "\n",
       "    .dataframe tbody tr th {\n",
       "        vertical-align: top;\n",
       "    }\n",
       "\n",
       "    .dataframe thead th {\n",
       "        text-align: right;\n",
       "    }\n",
       "</style>\n",
       "<table border=\"1\" class=\"dataframe\">\n",
       "  <thead>\n",
       "    <tr style=\"text-align: right;\">\n",
       "      <th></th>\n",
       "      <th>title</th>\n",
       "      <th>rank</th>\n",
       "      <th>date</th>\n",
       "      <th>artist</th>\n",
       "      <th>region</th>\n",
       "      <th>streams</th>\n",
       "      <th>year</th>\n",
       "      <th>month</th>\n",
       "      <th>top10</th>\n",
       "    </tr>\n",
       "  </thead>\n",
       "  <tbody>\n",
       "    <tr>\n",
       "      <th>0</th>\n",
       "      <td>Chantaje (feat. Maluma)</td>\n",
       "      <td>1</td>\n",
       "      <td>2017-01-01</td>\n",
       "      <td>Shakira</td>\n",
       "      <td>Argentina</td>\n",
       "      <td>253019.0</td>\n",
       "      <td>2017</td>\n",
       "      <td>1</td>\n",
       "      <td>True</td>\n",
       "    </tr>\n",
       "    <tr>\n",
       "      <th>1</th>\n",
       "      <td>Vente Pa' Ca (feat. Maluma)</td>\n",
       "      <td>2</td>\n",
       "      <td>2017-01-01</td>\n",
       "      <td>Ricky Martin</td>\n",
       "      <td>Argentina</td>\n",
       "      <td>223988.0</td>\n",
       "      <td>2017</td>\n",
       "      <td>1</td>\n",
       "      <td>True</td>\n",
       "    </tr>\n",
       "    <tr>\n",
       "      <th>2</th>\n",
       "      <td>Reggaetón Lento (Bailemos)</td>\n",
       "      <td>3</td>\n",
       "      <td>2017-01-01</td>\n",
       "      <td>CNCO</td>\n",
       "      <td>Argentina</td>\n",
       "      <td>210943.0</td>\n",
       "      <td>2017</td>\n",
       "      <td>1</td>\n",
       "      <td>True</td>\n",
       "    </tr>\n",
       "    <tr>\n",
       "      <th>3</th>\n",
       "      <td>Safari</td>\n",
       "      <td>4</td>\n",
       "      <td>2017-01-01</td>\n",
       "      <td>J Balvin</td>\n",
       "      <td>Argentina</td>\n",
       "      <td>173865.0</td>\n",
       "      <td>2017</td>\n",
       "      <td>1</td>\n",
       "      <td>True</td>\n",
       "    </tr>\n",
       "    <tr>\n",
       "      <th>4</th>\n",
       "      <td>Safari</td>\n",
       "      <td>4</td>\n",
       "      <td>2017-01-01</td>\n",
       "      <td>Pharrell Williams</td>\n",
       "      <td>Argentina</td>\n",
       "      <td>173865.0</td>\n",
       "      <td>2017</td>\n",
       "      <td>1</td>\n",
       "      <td>True</td>\n",
       "    </tr>\n",
       "  </tbody>\n",
       "</table>\n",
       "</div>"
      ],
      "text/plain": [
       "                         title  rank       date             artist     region  \\\n",
       "0      Chantaje (feat. Maluma)     1 2017-01-01            Shakira  Argentina   \n",
       "1  Vente Pa' Ca (feat. Maluma)     2 2017-01-01       Ricky Martin  Argentina   \n",
       "2   Reggaetón Lento (Bailemos)     3 2017-01-01               CNCO  Argentina   \n",
       "3                       Safari     4 2017-01-01           J Balvin  Argentina   \n",
       "4                       Safari     4 2017-01-01  Pharrell Williams  Argentina   \n",
       "\n",
       "    streams  year  month  top10  \n",
       "0  253019.0  2017      1   True  \n",
       "1  223988.0  2017      1   True  \n",
       "2  210943.0  2017      1   True  \n",
       "3  173865.0  2017      1   True  \n",
       "4  173865.0  2017      1   True  "
      ]
     },
     "execution_count": 71,
     "metadata": {},
     "output_type": "execute_result"
    }
   ],
   "source": [
    "df_artist.head()"
   ]
  },
  {
   "cell_type": "code",
   "execution_count": 72,
   "metadata": {},
   "outputs": [],
   "source": [
    "bad_bunny_data = df_artist[df_artist['artist'] == 'Bad Bunny']\n",
    "post_malone_data = df_artist[df_artist['artist'] == 'Post Malone']"
   ]
  },
  {
   "cell_type": "code",
   "execution_count": null,
   "metadata": {},
   "outputs": [],
   "source": [
    "alpha = 0.05"
   ]
  },
  {
   "cell_type": "markdown",
   "metadata": {},
   "source": [
    "## check if Bad Bunny rank observations are significantly different from population"
   ]
  },
  {
   "cell_type": "code",
   "execution_count": 75,
   "metadata": {},
   "outputs": [
    {
     "data": {
      "text/plain": [
       "count    307592.000000\n",
       "mean         84.640303\n",
       "std          56.325481\n",
       "min           1.000000\n",
       "25%          36.000000\n",
       "50%          79.000000\n",
       "75%         128.000000\n",
       "max         200.000000\n",
       "Name: rank, dtype: float64"
      ]
     },
     "execution_count": 75,
     "metadata": {},
     "output_type": "execute_result"
    }
   ],
   "source": [
    "bad_bunny_data['rank'].describe()"
   ]
  },
  {
   "cell_type": "code",
   "execution_count": 118,
   "metadata": {},
   "outputs": [
    {
     "data": {
      "image/png": "[encoded data removed]",
      "text/plain": [
       "<Figure size 360x360 with 1 Axes>"
      ]
     },
     "metadata": {
      "needs_background": "light"
     },
     "output_type": "display_data"
    }
   ],
   "source": [
    "#plt.figure(figsize=(8,2))\n",
    "\n",
    "sns.displot(data=bad_bunny_data, x='rank', binwidth=10)\n",
    "\n",
    "plt.show()"
   ]
  },
  {
   "cell_type": "code",
   "execution_count": 77,
   "metadata": {},
   "outputs": [
    {
     "data": {
      "text/plain": [
       "84.64030273869281"
      ]
     },
     "execution_count": 77,
     "metadata": {},
     "output_type": "execute_result"
    }
   ],
   "source": [
    "bad_bunny_rank_mean = bad_bunny_data['rank'].mean()\n",
    "bad_bunny_rank_mean"
   ]
  },
  {
   "cell_type": "code",
   "execution_count": 120,
   "metadata": {},
   "outputs": [],
   "source": [
    "def sample_means(df, size, sample_size, kpi):\n",
    "\n",
    "    sample_means = []\n",
    "\n",
    "    for i in range(size):\n",
    "\n",
    "        mean = df[kpi].sample(sample_size).mean()\n",
    "        sample_means.append(mean)\n",
    "    \n",
    "    sample_means = pd.Series(sample_means)\n",
    "\n",
    "    return sample_means"
   ]
  },
  {
   "cell_type": "code",
   "execution_count": 129,
   "metadata": {},
   "outputs": [
    {
     "data": {
      "text/plain": [
       "<Figure size 720x288 with 0 Axes>"
      ]
     },
     "metadata": {},
     "output_type": "display_data"
    },
    {
     "data": {
      "image/png": "[encoded data removed]",
      "text/plain": [
       "<Figure size 360x360 with 1 Axes>"
      ]
     },
     "metadata": {
      "needs_background": "light"
     },
     "output_type": "display_data"
    }
   ],
   "source": [
    "bad_bunny_rank_means = sample_means(bad_bunny_data, 1000, 100, 'rank')\n",
    "\n",
    "plt.figure(figsize=(10,4))\n",
    "\n",
    "sns.displot(bad_bunny_rank_means)\n",
    "plt.show()"
   ]
  },
  {
   "cell_type": "code",
   "execution_count": 130,
   "metadata": {},
   "outputs": [
    {
     "data": {
      "text/plain": [
       "count    1000.000000\n",
       "mean       84.486300\n",
       "std         5.809732\n",
       "min        63.780000\n",
       "25%        80.480000\n",
       "50%        84.410000\n",
       "75%        88.622500\n",
       "max       106.040000\n",
       "dtype: float64"
      ]
     },
     "execution_count": 130,
     "metadata": {},
     "output_type": "execute_result"
    }
   ],
   "source": [
    "bad_bunny_rank_means.describe()"
   ]
  },
  {
   "cell_type": "code",
   "execution_count": 134,
   "metadata": {},
   "outputs": [
    {
     "data": {
      "text/plain": [
       "(-2.796105147108541, 0.002586128491118346)"
      ]
     },
     "execution_count": 134,
     "metadata": {},
     "output_type": "execute_result"
    }
   ],
   "source": [
    "weightstats.ztest(x1=bad_bunny_rank_means, value=85, alternative='smaller')"
   ]
  },
  {
   "cell_type": "markdown",
   "metadata": {},
   "source": [
    "## Can we assume that top performancing artist are significantly different"
   ]
  },
  {
   "cell_type": "code",
   "execution_count": 165,
   "metadata": {},
   "outputs": [
    {
     "data": {
      "text/html": [
       "<div>\n",
       "<style scoped>\n",
       "    .dataframe tbody tr th:only-of-type {\n",
       "        vertical-align: middle;\n",
       "    }\n",
       "\n",
       "    .dataframe tbody tr th {\n",
       "        vertical-align: top;\n",
       "    }\n",
       "\n",
       "    .dataframe thead th {\n",
       "        text-align: right;\n",
       "    }\n",
       "</style>\n",
       "<table border=\"1\" class=\"dataframe\">\n",
       "  <thead>\n",
       "    <tr style=\"text-align: right;\">\n",
       "      <th></th>\n",
       "      <th>artist</th>\n",
       "      <th>total_streams_mio</th>\n",
       "      <th>count_songs</th>\n",
       "      <th>days_in_charts</th>\n",
       "      <th>days_in_top10</th>\n",
       "      <th>avg_streams_per_song_mio</th>\n",
       "      <th>avg_days_in_charts_per_song</th>\n",
       "    </tr>\n",
       "  </thead>\n",
       "  <tbody>\n",
       "    <tr>\n",
       "      <th>0</th>\n",
       "      <td>Bad Bunny</td>\n",
       "      <td>15523.01</td>\n",
       "      <td>154</td>\n",
       "      <td>307592</td>\n",
       "      <td>29915</td>\n",
       "      <td>100.8</td>\n",
       "      <td>49.9</td>\n",
       "    </tr>\n",
       "    <tr>\n",
       "      <th>1</th>\n",
       "      <td>Post Malone</td>\n",
       "      <td>13035.82</td>\n",
       "      <td>58</td>\n",
       "      <td>183994</td>\n",
       "      <td>14478</td>\n",
       "      <td>224.8</td>\n",
       "      <td>79.3</td>\n",
       "    </tr>\n",
       "    <tr>\n",
       "      <th>2</th>\n",
       "      <td>J Balvin</td>\n",
       "      <td>12801.30</td>\n",
       "      <td>151</td>\n",
       "      <td>255345</td>\n",
       "      <td>26990</td>\n",
       "      <td>84.8</td>\n",
       "      <td>42.3</td>\n",
       "    </tr>\n",
       "    <tr>\n",
       "      <th>3</th>\n",
       "      <td>Drake</td>\n",
       "      <td>10703.28</td>\n",
       "      <td>156</td>\n",
       "      <td>134342</td>\n",
       "      <td>9979</td>\n",
       "      <td>68.6</td>\n",
       "      <td>21.5</td>\n",
       "    </tr>\n",
       "    <tr>\n",
       "      <th>4</th>\n",
       "      <td>Ed Sheeran</td>\n",
       "      <td>10247.08</td>\n",
       "      <td>120</td>\n",
       "      <td>276268</td>\n",
       "      <td>21690</td>\n",
       "      <td>85.4</td>\n",
       "      <td>57.6</td>\n",
       "    </tr>\n",
       "    <tr>\n",
       "      <th>5</th>\n",
       "      <td>Ozuna</td>\n",
       "      <td>8666.86</td>\n",
       "      <td>160</td>\n",
       "      <td>208746</td>\n",
       "      <td>18898</td>\n",
       "      <td>54.2</td>\n",
       "      <td>32.6</td>\n",
       "    </tr>\n",
       "    <tr>\n",
       "      <th>6</th>\n",
       "      <td>Billie Eilish</td>\n",
       "      <td>7347.72</td>\n",
       "      <td>46</td>\n",
       "      <td>143630</td>\n",
       "      <td>6627</td>\n",
       "      <td>159.7</td>\n",
       "      <td>78.1</td>\n",
       "    </tr>\n",
       "    <tr>\n",
       "      <th>7</th>\n",
       "      <td>Ariana Grande</td>\n",
       "      <td>7023.11</td>\n",
       "      <td>81</td>\n",
       "      <td>123197</td>\n",
       "      <td>10607</td>\n",
       "      <td>86.7</td>\n",
       "      <td>38.0</td>\n",
       "    </tr>\n",
       "    <tr>\n",
       "      <th>8</th>\n",
       "      <td>Dua Lipa</td>\n",
       "      <td>6799.49</td>\n",
       "      <td>40</td>\n",
       "      <td>147020</td>\n",
       "      <td>10965</td>\n",
       "      <td>170.0</td>\n",
       "      <td>91.9</td>\n",
       "    </tr>\n",
       "    <tr>\n",
       "      <th>9</th>\n",
       "      <td>Juice WRLD</td>\n",
       "      <td>6794.28</td>\n",
       "      <td>106</td>\n",
       "      <td>74218</td>\n",
       "      <td>1741</td>\n",
       "      <td>64.1</td>\n",
       "      <td>17.5</td>\n",
       "    </tr>\n",
       "    <tr>\n",
       "      <th>10</th>\n",
       "      <td>The Weeknd</td>\n",
       "      <td>6792.79</td>\n",
       "      <td>70</td>\n",
       "      <td>112041</td>\n",
       "      <td>9563</td>\n",
       "      <td>97.0</td>\n",
       "      <td>40.0</td>\n",
       "    </tr>\n",
       "    <tr>\n",
       "      <th>11</th>\n",
       "      <td>Anuel AA</td>\n",
       "      <td>6531.64</td>\n",
       "      <td>128</td>\n",
       "      <td>136987</td>\n",
       "      <td>12230</td>\n",
       "      <td>51.0</td>\n",
       "      <td>26.8</td>\n",
       "    </tr>\n",
       "    <tr>\n",
       "      <th>12</th>\n",
       "      <td>Daddy Yankee</td>\n",
       "      <td>6163.78</td>\n",
       "      <td>70</td>\n",
       "      <td>130183</td>\n",
       "      <td>13607</td>\n",
       "      <td>88.1</td>\n",
       "      <td>46.5</td>\n",
       "    </tr>\n",
       "    <tr>\n",
       "      <th>13</th>\n",
       "      <td>XXXTENTACION</td>\n",
       "      <td>5911.40</td>\n",
       "      <td>80</td>\n",
       "      <td>94952</td>\n",
       "      <td>2147</td>\n",
       "      <td>73.9</td>\n",
       "      <td>29.7</td>\n",
       "    </tr>\n",
       "    <tr>\n",
       "      <th>14</th>\n",
       "      <td>Justin Bieber</td>\n",
       "      <td>5754.81</td>\n",
       "      <td>79</td>\n",
       "      <td>113617</td>\n",
       "      <td>12840</td>\n",
       "      <td>72.8</td>\n",
       "      <td>36.0</td>\n",
       "    </tr>\n",
       "    <tr>\n",
       "      <th>15</th>\n",
       "      <td>Travis Scott</td>\n",
       "      <td>5486.42</td>\n",
       "      <td>67</td>\n",
       "      <td>80387</td>\n",
       "      <td>2159</td>\n",
       "      <td>81.9</td>\n",
       "      <td>30.0</td>\n",
       "    </tr>\n",
       "    <tr>\n",
       "      <th>16</th>\n",
       "      <td>Khalid</td>\n",
       "      <td>5261.34</td>\n",
       "      <td>55</td>\n",
       "      <td>94214</td>\n",
       "      <td>4550</td>\n",
       "      <td>95.7</td>\n",
       "      <td>42.8</td>\n",
       "    </tr>\n",
       "    <tr>\n",
       "      <th>17</th>\n",
       "      <td>Rauw Alejandro</td>\n",
       "      <td>4912.46</td>\n",
       "      <td>102</td>\n",
       "      <td>97117</td>\n",
       "      <td>8485</td>\n",
       "      <td>48.2</td>\n",
       "      <td>23.8</td>\n",
       "    </tr>\n",
       "    <tr>\n",
       "      <th>18</th>\n",
       "      <td>Maluma</td>\n",
       "      <td>4876.91</td>\n",
       "      <td>111</td>\n",
       "      <td>113384</td>\n",
       "      <td>8524</td>\n",
       "      <td>43.9</td>\n",
       "      <td>25.5</td>\n",
       "    </tr>\n",
       "    <tr>\n",
       "      <th>19</th>\n",
       "      <td>Myke Towers</td>\n",
       "      <td>4810.01</td>\n",
       "      <td>134</td>\n",
       "      <td>98528</td>\n",
       "      <td>7371</td>\n",
       "      <td>35.9</td>\n",
       "      <td>18.4</td>\n",
       "    </tr>\n",
       "  </tbody>\n",
       "</table>\n",
       "</div>"
      ],
      "text/plain": [
       "            artist  total_streams_mio  count_songs  days_in_charts  \\\n",
       "0        Bad Bunny           15523.01          154          307592   \n",
       "1      Post Malone           13035.82           58          183994   \n",
       "2         J Balvin           12801.30          151          255345   \n",
       "3            Drake           10703.28          156          134342   \n",
       "4       Ed Sheeran           10247.08          120          276268   \n",
       "5            Ozuna            8666.86          160          208746   \n",
       "6    Billie Eilish            7347.72           46          143630   \n",
       "7    Ariana Grande            7023.11           81          123197   \n",
       "8         Dua Lipa            6799.49           40          147020   \n",
       "9       Juice WRLD            6794.28          106           74218   \n",
       "10      The Weeknd            6792.79           70          112041   \n",
       "11        Anuel AA            6531.64          128          136987   \n",
       "12    Daddy Yankee            6163.78           70          130183   \n",
       "13    XXXTENTACION            5911.40           80           94952   \n",
       "14   Justin Bieber            5754.81           79          113617   \n",
       "15    Travis Scott            5486.42           67           80387   \n",
       "16          Khalid            5261.34           55           94214   \n",
       "17  Rauw Alejandro            4912.46          102           97117   \n",
       "18          Maluma            4876.91          111          113384   \n",
       "19     Myke Towers            4810.01          134           98528   \n",
       "\n",
       "    days_in_top10  avg_streams_per_song_mio  avg_days_in_charts_per_song  \n",
       "0           29915                     100.8                         49.9  \n",
       "1           14478                     224.8                         79.3  \n",
       "2           26990                      84.8                         42.3  \n",
       "3            9979                      68.6                         21.5  \n",
       "4           21690                      85.4                         57.6  \n",
       "5           18898                      54.2                         32.6  \n",
       "6            6627                     159.7                         78.1  \n",
       "7           10607                      86.7                         38.0  \n",
       "8           10965                     170.0                         91.9  \n",
       "9            1741                      64.1                         17.5  \n",
       "10           9563                      97.0                         40.0  \n",
       "11          12230                      51.0                         26.8  \n",
       "12          13607                      88.1                         46.5  \n",
       "13           2147                      73.9                         29.7  \n",
       "14          12840                      72.8                         36.0  \n",
       "15           2159                      81.9                         30.0  \n",
       "16           4550                      95.7                         42.8  \n",
       "17           8485                      48.2                         23.8  \n",
       "18           8524                      43.9                         25.5  \n",
       "19           7371                      35.9                         18.4  "
      ]
     },
     "execution_count": 165,
     "metadata": {},
     "output_type": "execute_result"
    }
   ],
   "source": [
    "artist_performance_overall.head(20)"
   ]
  },
  {
   "cell_type": "code",
   "execution_count": 137,
   "metadata": {},
   "outputs": [
    {
     "data": {
      "text/plain": [
       "<Figure size 720x288 with 0 Axes>"
      ]
     },
     "metadata": {},
     "output_type": "display_data"
    },
    {
     "data": {
      "image/png": "[encoded data removed]",
      "text/plain": [
       "<Figure size 360x360 with 1 Axes>"
      ]
     },
     "metadata": {
      "needs_background": "light"
     },
     "output_type": "display_data"
    }
   ],
   "source": [
    "post_malone_rank_means = sample_means(post_malone_data, 1000, 100, 'rank')\n",
    "\n",
    "plt.figure(figsize=(10,4))\n",
    "\n",
    "sns.displot(post_malone_rank_means)\n",
    "plt.show()"
   ]
  },
  {
   "cell_type": "code",
   "execution_count": 138,
   "metadata": {},
   "outputs": [
    {
     "data": {
      "text/plain": [
       "(84.48630000000003, 89.96120999999995)"
      ]
     },
     "execution_count": 138,
     "metadata": {},
     "output_type": "execute_result"
    }
   ],
   "source": [
    "bad_bunny_rank_means.mean(), post_malone_rank_means.mean()"
   ]
  },
  {
   "cell_type": "code",
   "execution_count": 144,
   "metadata": {},
   "outputs": [
    {
     "data": {
      "text/plain": [
       "(-21.466127554859977, 1.0)"
      ]
     },
     "execution_count": 144,
     "metadata": {},
     "output_type": "execute_result"
    }
   ],
   "source": [
    "weightstats.ztest(x1=bad_bunny_rank_means, x2=post_malone_rank_means, alternative='larger')"
   ]
  },
  {
   "cell_type": "code",
   "execution_count": 168,
   "metadata": {},
   "outputs": [
    {
     "data": {
      "image/png": "[encoded data removed]",
      "text/plain": [
       "<Figure size 720x432 with 1 Axes>"
      ]
     },
     "metadata": {
      "needs_background": "light"
     },
     "output_type": "display_data"
    }
   ],
   "source": [
    "plt.figure(figsize=(10, 6))\n",
    "\n",
    "sns.kdeplot(data=df_artist[df_artist['artist'].isin(['Post Malone', 'Bad Bunny', 'Myke Towers'])], \n",
    "            x='rank', \n",
    "            hue='artist', \n",
    "            palette='PuBuGn',\n",
    "            lw=3)\n",
    "\n",
    "plt.show()"
   ]
  },
  {
   "cell_type": "markdown",
   "metadata": {},
   "source": [
    "## lets check if there is a significant different is #1 position proportions"
   ]
  },
  {
   "cell_type": "code",
   "execution_count": 175,
   "metadata": {},
   "outputs": [],
   "source": [
    "from statsmodels.stats import proportion"
   ]
  },
  {
   "cell_type": "code",
   "execution_count": 215,
   "metadata": {},
   "outputs": [
    {
     "name": "stderr",
     "output_type": "stream",
     "text": [
      "c:\\ProgramData\\Anaconda3\\lib\\site-packages\\ipykernel_launcher.py:2: SettingWithCopyWarning: \n",
      "A value is trying to be set on a copy of a slice from a DataFrame.\n",
      "Try using .loc[row_indexer,col_indexer] = value instead\n",
      "\n",
      "See the caveats in the documentation: https://pandas.pydata.org/pandas-docs/stable/user_guide/indexing.html#returning-a-view-versus-a-copy\n",
      "  \n"
     ]
    },
    {
     "data": {
      "text/html": [
       "<div>\n",
       "<style scoped>\n",
       "    .dataframe tbody tr th:only-of-type {\n",
       "        vertical-align: middle;\n",
       "    }\n",
       "\n",
       "    .dataframe tbody tr th {\n",
       "        vertical-align: top;\n",
       "    }\n",
       "\n",
       "    .dataframe thead th {\n",
       "        text-align: right;\n",
       "    }\n",
       "</style>\n",
       "<table border=\"1\" class=\"dataframe\">\n",
       "  <thead>\n",
       "    <tr style=\"text-align: right;\">\n",
       "      <th></th>\n",
       "      <th>title</th>\n",
       "      <th>rank</th>\n",
       "      <th>date</th>\n",
       "      <th>artist</th>\n",
       "      <th>region</th>\n",
       "      <th>streams</th>\n",
       "      <th>year</th>\n",
       "      <th>month</th>\n",
       "      <th>top10</th>\n",
       "      <th>pos1</th>\n",
       "    </tr>\n",
       "  </thead>\n",
       "  <tbody>\n",
       "    <tr>\n",
       "      <th>121</th>\n",
       "      <td>Diles (feat. Arcangel, Nengo Flow, Dj Luian &amp; ...</td>\n",
       "      <td>89</td>\n",
       "      <td>2017-01-01</td>\n",
       "      <td>Bad Bunny</td>\n",
       "      <td>Argentina</td>\n",
       "      <td>25622.0</td>\n",
       "      <td>2017</td>\n",
       "      <td>1</td>\n",
       "      <td>False</td>\n",
       "      <td>False</td>\n",
       "    </tr>\n",
       "    <tr>\n",
       "      <th>1500</th>\n",
       "      <td>White Iverson</td>\n",
       "      <td>143</td>\n",
       "      <td>2017-01-01</td>\n",
       "      <td>Post Malone</td>\n",
       "      <td>Canada</td>\n",
       "      <td>19566.0</td>\n",
       "      <td>2017</td>\n",
       "      <td>1</td>\n",
       "      <td>False</td>\n",
       "      <td>False</td>\n",
       "    </tr>\n",
       "    <tr>\n",
       "      <th>1708</th>\n",
       "      <td>Diles (feat. Arcangel, Nengo Flow, Dj Luian &amp; ...</td>\n",
       "      <td>95</td>\n",
       "      <td>2017-01-01</td>\n",
       "      <td>Bad Bunny</td>\n",
       "      <td>Chile</td>\n",
       "      <td>17998.0</td>\n",
       "      <td>2017</td>\n",
       "      <td>1</td>\n",
       "      <td>False</td>\n",
       "      <td>False</td>\n",
       "    </tr>\n",
       "    <tr>\n",
       "      <th>1935</th>\n",
       "      <td>Diles (feat. Arcangel, Nengo Flow, Dj Luian &amp; ...</td>\n",
       "      <td>73</td>\n",
       "      <td>2017-01-01</td>\n",
       "      <td>Bad Bunny</td>\n",
       "      <td>Colombia</td>\n",
       "      <td>6553.0</td>\n",
       "      <td>2017</td>\n",
       "      <td>1</td>\n",
       "      <td>False</td>\n",
       "      <td>False</td>\n",
       "    </tr>\n",
       "    <tr>\n",
       "      <th>2872</th>\n",
       "      <td>Diles (feat. Arcangel, Nengo Flow, Dj Luian &amp; ...</td>\n",
       "      <td>52</td>\n",
       "      <td>2017-01-01</td>\n",
       "      <td>Bad Bunny</td>\n",
       "      <td>Ecuador</td>\n",
       "      <td>3356.0</td>\n",
       "      <td>2017</td>\n",
       "      <td>1</td>\n",
       "      <td>False</td>\n",
       "      <td>False</td>\n",
       "    </tr>\n",
       "  </tbody>\n",
       "</table>\n",
       "</div>"
      ],
      "text/plain": [
       "                                                  title  rank       date  \\\n",
       "121   Diles (feat. Arcangel, Nengo Flow, Dj Luian & ...    89 2017-01-01   \n",
       "1500                                      White Iverson   143 2017-01-01   \n",
       "1708  Diles (feat. Arcangel, Nengo Flow, Dj Luian & ...    95 2017-01-01   \n",
       "1935  Diles (feat. Arcangel, Nengo Flow, Dj Luian & ...    73 2017-01-01   \n",
       "2872  Diles (feat. Arcangel, Nengo Flow, Dj Luian & ...    52 2017-01-01   \n",
       "\n",
       "           artist     region  streams  year  month  top10   pos1  \n",
       "121     Bad Bunny  Argentina  25622.0  2017      1  False  False  \n",
       "1500  Post Malone     Canada  19566.0  2017      1  False  False  \n",
       "1708    Bad Bunny      Chile  17998.0  2017      1  False  False  \n",
       "1935    Bad Bunny   Colombia   6553.0  2017      1  False  False  \n",
       "2872    Bad Bunny    Ecuador   3356.0  2017      1  False  False  "
      ]
     },
     "execution_count": 215,
     "metadata": {},
     "output_type": "execute_result"
    }
   ],
   "source": [
    "data = df_artist[(df_artist['artist'].isin(['Post Malone', 'Bad Bunny']))]\n",
    "data['pos1'] = data['rank'] == 1\n",
    "data.head()"
   ]
  },
  {
   "cell_type": "code",
   "execution_count": 211,
   "metadata": {},
   "outputs": [
    {
     "data": {
      "text/plain": [
       "<matplotlib.axes._subplots.AxesSubplot at 0x19269219088>"
      ]
     },
     "execution_count": 211,
     "metadata": {},
     "output_type": "execute_result"
    },
    {
     "data": {
      "image/png": "[encoded data removed]",
      "text/plain": [
       "<Figure size 432x288 with 1 Axes>"
      ]
     },
     "metadata": {
      "needs_background": "light"
     },
     "output_type": "display_data"
    }
   ],
   "source": [
    "data.groupby('artist')['pos1'].mean().plot(kind='bar')"
   ]
  },
  {
   "cell_type": "code",
   "execution_count": 212,
   "metadata": {},
   "outputs": [],
   "source": [
    "count1 = len(data[(data['artist'] == 'Bad Bunny') & (data['pos1'] == True)])\n",
    "count2 = len(data[(data['artist'] == 'Post Malone') & (data['pos1'] == True)])\n",
    "nobs1 = len(data[(data['artist'] == 'Bad Bunny')])\n",
    "nobs2 = len(data[(data['artist'] == 'Post Malone')])"
   ]
  },
  {
   "cell_type": "code",
   "execution_count": 213,
   "metadata": {},
   "outputs": [
    {
     "data": {
      "text/plain": [
       "(340, 162, 30832, 18327)"
      ]
     },
     "execution_count": 213,
     "metadata": {},
     "output_type": "execute_result"
    }
   ],
   "source": [
    "count1, count2, nobs1, nobs2"
   ]
  },
  {
   "cell_type": "code",
   "execution_count": 214,
   "metadata": {},
   "outputs": [
    {
     "data": {
      "text/plain": [
       "<class 'statsmodels.stats.base.HolderTuple'>\n",
       "statistic = 2.3697763259366558\n",
       "pvalue = 0.008899424664725042\n",
       "compare = 'diff'\n",
       "method = 'agresti-caffo'\n",
       "diff = 0.0021880866388272625\n",
       "ratio = 1.2475374310480694\n",
       "odds_ratio = 1.2502975886814272\n",
       "variance = 8.355762844547204e-07\n",
       "alternative = 'larger'\n",
       "value = 0\n",
       "tuple = (2.3697763259366558, 0.008899424664725042)"
      ]
     },
     "execution_count": 214,
     "metadata": {},
     "output_type": "execute_result"
    }
   ],
   "source": [
    "proportion.test_proportions_2indep(count1, nobs1, count2, nobs2, alternative='larger')"
   ]
  },
  {
   "cell_type": "markdown",
   "metadata": {},
   "source": [
    "# sandbox"
   ]
  },
  {
   "cell_type": "code",
   "execution_count": null,
   "metadata": {},
   "outputs": [],
   "source": [
    "dice = pd.Series(np.random.randint(1, 7, 10000))"
   ]
  },
  {
   "cell_type": "code",
   "execution_count": null,
   "metadata": {},
   "outputs": [
    {
     "data": {
      "image/png": "[encoded data removed]",
      "text/plain": [
       "<Figure size 360x360 with 1 Axes>"
      ]
     },
     "metadata": {},
     "output_type": "display_data"
    }
   ],
   "source": [
    "sns.displot(dice)\n",
    "plt.show()"
   ]
  },
  {
   "cell_type": "code",
   "execution_count": null,
   "metadata": {},
   "outputs": [],
   "source": [
    "sample_means = []\n",
    "\n",
    "for i in range(1000):\n",
    "\n",
    "    mean = dice.sample(30).mean()\n",
    "    sample_means.append(mean)\n",
    "\n",
    "sample_means = pd.Series(sample_means)"
   ]
  },
  {
   "cell_type": "code",
   "execution_count": null,
   "metadata": {},
   "outputs": [
    {
     "data": {
      "image/png": "[encoded data removed]",
      "text/plain": [
       "<Figure size 360x360 with 1 Axes>"
      ]
     },
     "metadata": {},
     "output_type": "display_data"
    }
   ],
   "source": [
    "sns.displot(sample_means)\n",
    "plt.show()"
   ]
  },
  {
   "cell_type": "code",
   "execution_count": null,
   "metadata": {},
   "outputs": [],
   "source": [
    "#np.mean(dice)\n",
    "samp_mean = np.mean(sample_means)\n",
    "#np.std(dice)\n",
    "samp_std = np.std(sample_means)\n",
    "std_err = samp_std / np.sqrt(30)"
   ]
  },
  {
   "cell_type": "code",
   "execution_count": null,
   "metadata": {},
   "outputs": [
    {
     "data": {
      "text/plain": [
       "(3.475933333333337, 0.3060223593864413, 0.05587178311230223)"
      ]
     },
     "metadata": {},
     "output_type": "display_data"
    }
   ],
   "source": [
    "samp_mean, samp_std, std_err"
   ]
  },
  {
   "cell_type": "code",
   "execution_count": null,
   "metadata": {},
   "outputs": [
    {
     "data": {
      "text/plain": [
       "(7.842635844360429, 4.411860338823747e-15)"
      ]
     },
     "metadata": {},
     "output_type": "display_data"
    }
   ],
   "source": [
    "pop_mean = 3.4\n",
    "weightstats.ztest(x1=sample_means, value=pop_mean)"
   ]
  },
  {
   "cell_type": "code",
   "execution_count": null,
   "metadata": {},
   "outputs": [
    {
     "data": {
      "text/plain": [
       "Ttest_1sampResult(statistic=7.842635844360429, pvalue=1.1285545829920677e-14)"
      ]
     },
     "metadata": {},
     "output_type": "display_data"
    }
   ],
   "source": [
    "stats.ttest_1samp(sample_means, pop_mean)"
   ]
  },
  {
   "cell_type": "code",
   "execution_count": null,
   "metadata": {},
   "outputs": [
    {
     "data": {
      "text/plain": [
       "1.3590640767757678"
      ]
     },
     "metadata": {},
     "output_type": "display_data"
    }
   ],
   "source": [
    "z_score = (samp_mean - pop_mean) / std_err\n",
    "z_score"
   ]
  },
  {
   "cell_type": "code",
   "execution_count": null,
   "metadata": {},
   "outputs": [
    {
     "data": {
      "text/plain": [
       "0.17412628493522175"
      ]
     },
     "metadata": {},
     "output_type": "display_data"
    }
   ],
   "source": [
    "2 * stats.norm.sf(z_score)"
   ]
  },
  {
   "cell_type": "code",
   "execution_count": null,
   "metadata": {},
   "outputs": [
    {
     "data": {
      "text/plain": [
       "3.966666666666667"
      ]
     },
     "metadata": {},
     "output_type": "display_data"
    }
   ],
   "source": [
    "sample_means.quantile(0.95)"
   ]
  },
  {
   "cell_type": "code",
   "execution_count": null,
   "metadata": {},
   "outputs": [
    {
     "data": {
      "text/plain": [
       "0.306175485420235"
      ]
     },
     "metadata": {},
     "output_type": "display_data"
    }
   ],
   "source": [
    "sample_means.std()"
   ]
  },
  {
   "cell_type": "code",
   "execution_count": null,
   "metadata": {},
   "outputs": [],
   "source": [
    "z_score, p_value = weightstats.ztest(x1=bad_bunny_rank_means, value=100, alternative='larger')"
   ]
  },
  {
   "cell_type": "code",
   "execution_count": null,
   "metadata": {},
   "outputs": [
    {
     "data": {
      "text/plain": [
       "(0.0, 66.38581524647948)"
      ]
     },
     "metadata": {},
     "output_type": "display_data"
    }
   ],
   "source": [
    "p_value, z_score"
   ]
  },
  {
   "cell_type": "code",
   "execution_count": null,
   "metadata": {},
   "outputs": [
    {
     "data": {
      "text/plain": [
       "True"
      ]
     },
     "metadata": {},
     "output_type": "display_data"
    }
   ],
   "source": [
    "p_value <= alpha"
   ]
  },
  {
   "cell_type": "code",
   "execution_count": null,
   "metadata": {},
   "outputs": [],
   "source": [
    "normal = np.random.normal(100, 5, 1000)"
   ]
  },
  {
   "cell_type": "code",
   "execution_count": null,
   "metadata": {},
   "outputs": [
    {
     "data": {
      "text/plain": [
       "<seaborn.axisgrid.FacetGrid at 0x19232055b48>"
      ]
     },
     "metadata": {},
     "output_type": "display_data"
    },
    {
     "data": {
      "image/png": "[encoded data removed]",
      "text/plain": [
       "<Figure size 360x360 with 1 Axes>"
      ]
     },
     "metadata": {},
     "output_type": "display_data"
    }
   ],
   "source": [
    "sns.displot(normal)"
   ]
  },
  {
   "cell_type": "markdown",
   "metadata": {},
   "source": [
    "## bottle producing"
   ]
  },
  {
   "cell_type": "code",
   "execution_count": null,
   "metadata": {},
   "outputs": [
    {
     "data": {
      "text/plain": [
       "RandomState(MT19937) at 0x19231A46598"
      ]
     },
     "metadata": {},
     "output_type": "display_data"
    }
   ],
   "source": [
    "np.random.RandomState(101)"
   ]
  },
  {
   "cell_type": "code",
   "execution_count": null,
   "metadata": {},
   "outputs": [],
   "source": [
    "sample = np.random.normal(150.2, 2, 100)\n",
    "\n",
    "sample_mean = sample.mean()\n",
    "sample_std = sample.std()"
   ]
  },
  {
   "cell_type": "code",
   "execution_count": null,
   "metadata": {},
   "outputs": [
    {
     "data": {
      "text/plain": [
       "(149.98356170659986, 2.148144448936558)"
      ]
     },
     "metadata": {},
     "output_type": "display_data"
    }
   ],
   "source": [
    "sample_mean, sample_std"
   ]
  },
  {
   "cell_type": "code",
   "execution_count": null,
   "metadata": {},
   "outputs": [
    {
     "data": {
      "text/plain": [
       "(-0.07613964428095754, 0.5303459999547953)"
      ]
     },
     "metadata": {},
     "output_type": "display_data"
    }
   ],
   "source": [
    "weightstats.ztest(x1=sample, value=150, alternative='larger')"
   ]
  },
  {
   "cell_type": "markdown",
   "metadata": {},
   "source": [
    "## smoking"
   ]
  },
  {
   "cell_type": "code",
   "execution_count": 111,
   "metadata": {},
   "outputs": [],
   "source": [
    "test = np.random.binomial(20, 0.12, 1000)"
   ]
  },
  {
   "cell_type": "code",
   "execution_count": 112,
   "metadata": {},
   "outputs": [
    {
     "data": {
      "image/png": "[encoded data removed]",
      "text/plain": [
       "<Figure size 432x288 with 1 Axes>"
      ]
     },
     "metadata": {
      "needs_background": "light"
     },
     "output_type": "display_data"
    }
   ],
   "source": [
    "sns.countplot(x=test)\n",
    "plt.show()"
   ]
  },
  {
   "cell_type": "code",
   "execution_count": 113,
   "metadata": {},
   "outputs": [
    {
     "data": {
      "text/plain": [
       "0.589"
      ]
     },
     "execution_count": 113,
     "metadata": {},
     "output_type": "execute_result"
    }
   ],
   "source": [
    "np.mean(test <= 2)"
   ]
  },
  {
   "cell_type": "code",
   "execution_count": 114,
   "metadata": {},
   "outputs": [
    {
     "data": {
      "text/plain": [
       "0.5631315224061949"
      ]
     },
     "execution_count": 114,
     "metadata": {},
     "output_type": "execute_result"
    }
   ],
   "source": [
    "stats.binom.cdf(2, 20, 0.12)"
   ]
  },
  {
   "cell_type": "code",
   "execution_count": 115,
   "metadata": {},
   "outputs": [
    {
     "data": {
      "text/plain": [
       "0.0504246022155211"
      ]
     },
     "execution_count": 115,
     "metadata": {},
     "output_type": "execute_result"
    }
   ],
   "source": [
    "stats.binom_test(x=14, n=100, p=0.21, alternative='less')"
   ]
  }
 ],
 "metadata": {
  "kernelspec": {
   "display_name": "base",
   "language": "python",
   "name": "python3"
  },
  "language_info": {
   "codemirror_mode": {
    "name": "ipython",
    "version": 3
   },
   "file_extension": ".py",
   "mimetype": "text/x-python",
   "name": "python",
   "nbconvert_exporter": "python",
   "pygments_lexer": "ipython3",
   "version": "3.7.6"
  },
  "orig_nbformat": 4
 },
 "nbformat": 4,
 "nbformat_minor": 2
}
